{
 "cells": [
  {
   "cell_type": "code",
   "execution_count": 101,
   "metadata": {},
   "outputs": [],
   "source": [
    "import pandas as pd\n",
    "import numpy as np\n",
    "from scipy import stats\n",
    "import seaborn as sns #!pip install seaborn\n",
    "import matplotlib.pyplot as plt\n",
    "import mpl_toolkits\n",
    "from mpl_toolkits.mplot3d import Axes3D\n",
    "import requests\n",
    "import pprint\n",
    "from config import map_key"
   ]
  },
  {
   "cell_type": "code",
   "execution_count": 102,
   "metadata": {},
   "outputs": [
    {
     "data": {
      "text/plain": [
       "'http://www.mapquestapi.com/geocoding/v1/address?key=AVGKdlu1IdakAmuexFuRz46D89fhRGZj&location='"
      ]
     },
     "execution_count": 102,
     "metadata": {},
     "output_type": "execute_result"
    }
   ],
   "source": [
    "url='http://www.mapquestapi.com/geocoding/v1/address?key=' + map_key + '&location='\n",
    "url"
   ]
  },
  {
   "cell_type": "code",
   "execution_count": 103,
   "metadata": {},
   "outputs": [
    {
     "data": {
      "text/html": [
       "<style  type=\"text/css\" >\n",
       "</style><table id=\"T_c82039b4_08b7_11ea_8723_086d41dd6a90\" ><thead>    <tr>        <th class=\"blank level0\" ></th>        <th class=\"col_heading level0 col0\" >id</th>        <th class=\"col_heading level0 col1\" >name</th>        <th class=\"col_heading level0 col2\" >host_id</th>        <th class=\"col_heading level0 col3\" >host_name</th>        <th class=\"col_heading level0 col4\" >neighbourhood_group</th>        <th class=\"col_heading level0 col5\" >neighbourhood</th>        <th class=\"col_heading level0 col6\" >latitude</th>        <th class=\"col_heading level0 col7\" >longitude</th>        <th class=\"col_heading level0 col8\" >room_type</th>        <th class=\"col_heading level0 col9\" >price</th>        <th class=\"col_heading level0 col10\" >minimum_nights</th>        <th class=\"col_heading level0 col11\" >number_of_reviews</th>        <th class=\"col_heading level0 col12\" >last_review</th>        <th class=\"col_heading level0 col13\" >reviews_per_month</th>        <th class=\"col_heading level0 col14\" >calculated_host_listings_count</th>        <th class=\"col_heading level0 col15\" >availability_365</th>    </tr></thead><tbody>\n",
       "                <tr>\n",
       "                        <th id=\"T_c82039b4_08b7_11ea_8723_086d41dd6a90level0_row0\" class=\"row_heading level0 row0\" >0</th>\n",
       "                        <td id=\"T_c82039b4_08b7_11ea_8723_086d41dd6a90row0_col0\" class=\"data row0 col0\" >2539</td>\n",
       "                        <td id=\"T_c82039b4_08b7_11ea_8723_086d41dd6a90row0_col1\" class=\"data row0 col1\" >Clean & quiet apt home by the park</td>\n",
       "                        <td id=\"T_c82039b4_08b7_11ea_8723_086d41dd6a90row0_col2\" class=\"data row0 col2\" >2787</td>\n",
       "                        <td id=\"T_c82039b4_08b7_11ea_8723_086d41dd6a90row0_col3\" class=\"data row0 col3\" >John</td>\n",
       "                        <td id=\"T_c82039b4_08b7_11ea_8723_086d41dd6a90row0_col4\" class=\"data row0 col4\" >Brooklyn</td>\n",
       "                        <td id=\"T_c82039b4_08b7_11ea_8723_086d41dd6a90row0_col5\" class=\"data row0 col5\" >Kensington</td>\n",
       "                        <td id=\"T_c82039b4_08b7_11ea_8723_086d41dd6a90row0_col6\" class=\"data row0 col6\" >40.6475</td>\n",
       "                        <td id=\"T_c82039b4_08b7_11ea_8723_086d41dd6a90row0_col7\" class=\"data row0 col7\" >-73.9724</td>\n",
       "                        <td id=\"T_c82039b4_08b7_11ea_8723_086d41dd6a90row0_col8\" class=\"data row0 col8\" >Private room</td>\n",
       "                        <td id=\"T_c82039b4_08b7_11ea_8723_086d41dd6a90row0_col9\" class=\"data row0 col9\" >149</td>\n",
       "                        <td id=\"T_c82039b4_08b7_11ea_8723_086d41dd6a90row0_col10\" class=\"data row0 col10\" >1</td>\n",
       "                        <td id=\"T_c82039b4_08b7_11ea_8723_086d41dd6a90row0_col11\" class=\"data row0 col11\" >9</td>\n",
       "                        <td id=\"T_c82039b4_08b7_11ea_8723_086d41dd6a90row0_col12\" class=\"data row0 col12\" >2018-10-19</td>\n",
       "                        <td id=\"T_c82039b4_08b7_11ea_8723_086d41dd6a90row0_col13\" class=\"data row0 col13\" >0.21</td>\n",
       "                        <td id=\"T_c82039b4_08b7_11ea_8723_086d41dd6a90row0_col14\" class=\"data row0 col14\" >6</td>\n",
       "                        <td id=\"T_c82039b4_08b7_11ea_8723_086d41dd6a90row0_col15\" class=\"data row0 col15\" >365</td>\n",
       "            </tr>\n",
       "            <tr>\n",
       "                        <th id=\"T_c82039b4_08b7_11ea_8723_086d41dd6a90level0_row1\" class=\"row_heading level0 row1\" >1</th>\n",
       "                        <td id=\"T_c82039b4_08b7_11ea_8723_086d41dd6a90row1_col0\" class=\"data row1 col0\" >2595</td>\n",
       "                        <td id=\"T_c82039b4_08b7_11ea_8723_086d41dd6a90row1_col1\" class=\"data row1 col1\" >Skylit Midtown Castle</td>\n",
       "                        <td id=\"T_c82039b4_08b7_11ea_8723_086d41dd6a90row1_col2\" class=\"data row1 col2\" >2845</td>\n",
       "                        <td id=\"T_c82039b4_08b7_11ea_8723_086d41dd6a90row1_col3\" class=\"data row1 col3\" >Jennifer</td>\n",
       "                        <td id=\"T_c82039b4_08b7_11ea_8723_086d41dd6a90row1_col4\" class=\"data row1 col4\" >Manhattan</td>\n",
       "                        <td id=\"T_c82039b4_08b7_11ea_8723_086d41dd6a90row1_col5\" class=\"data row1 col5\" >Midtown</td>\n",
       "                        <td id=\"T_c82039b4_08b7_11ea_8723_086d41dd6a90row1_col6\" class=\"data row1 col6\" >40.7536</td>\n",
       "                        <td id=\"T_c82039b4_08b7_11ea_8723_086d41dd6a90row1_col7\" class=\"data row1 col7\" >-73.9838</td>\n",
       "                        <td id=\"T_c82039b4_08b7_11ea_8723_086d41dd6a90row1_col8\" class=\"data row1 col8\" >Entire home/apt</td>\n",
       "                        <td id=\"T_c82039b4_08b7_11ea_8723_086d41dd6a90row1_col9\" class=\"data row1 col9\" >225</td>\n",
       "                        <td id=\"T_c82039b4_08b7_11ea_8723_086d41dd6a90row1_col10\" class=\"data row1 col10\" >1</td>\n",
       "                        <td id=\"T_c82039b4_08b7_11ea_8723_086d41dd6a90row1_col11\" class=\"data row1 col11\" >45</td>\n",
       "                        <td id=\"T_c82039b4_08b7_11ea_8723_086d41dd6a90row1_col12\" class=\"data row1 col12\" >2019-05-21</td>\n",
       "                        <td id=\"T_c82039b4_08b7_11ea_8723_086d41dd6a90row1_col13\" class=\"data row1 col13\" >0.38</td>\n",
       "                        <td id=\"T_c82039b4_08b7_11ea_8723_086d41dd6a90row1_col14\" class=\"data row1 col14\" >2</td>\n",
       "                        <td id=\"T_c82039b4_08b7_11ea_8723_086d41dd6a90row1_col15\" class=\"data row1 col15\" >355</td>\n",
       "            </tr>\n",
       "            <tr>\n",
       "                        <th id=\"T_c82039b4_08b7_11ea_8723_086d41dd6a90level0_row2\" class=\"row_heading level0 row2\" >2</th>\n",
       "                        <td id=\"T_c82039b4_08b7_11ea_8723_086d41dd6a90row2_col0\" class=\"data row2 col0\" >3647</td>\n",
       "                        <td id=\"T_c82039b4_08b7_11ea_8723_086d41dd6a90row2_col1\" class=\"data row2 col1\" >THE VILLAGE OF HARLEM....NEW YORK !</td>\n",
       "                        <td id=\"T_c82039b4_08b7_11ea_8723_086d41dd6a90row2_col2\" class=\"data row2 col2\" >4632</td>\n",
       "                        <td id=\"T_c82039b4_08b7_11ea_8723_086d41dd6a90row2_col3\" class=\"data row2 col3\" >Elisabeth</td>\n",
       "                        <td id=\"T_c82039b4_08b7_11ea_8723_086d41dd6a90row2_col4\" class=\"data row2 col4\" >Manhattan</td>\n",
       "                        <td id=\"T_c82039b4_08b7_11ea_8723_086d41dd6a90row2_col5\" class=\"data row2 col5\" >Harlem</td>\n",
       "                        <td id=\"T_c82039b4_08b7_11ea_8723_086d41dd6a90row2_col6\" class=\"data row2 col6\" >40.809</td>\n",
       "                        <td id=\"T_c82039b4_08b7_11ea_8723_086d41dd6a90row2_col7\" class=\"data row2 col7\" >-73.9419</td>\n",
       "                        <td id=\"T_c82039b4_08b7_11ea_8723_086d41dd6a90row2_col8\" class=\"data row2 col8\" >Private room</td>\n",
       "                        <td id=\"T_c82039b4_08b7_11ea_8723_086d41dd6a90row2_col9\" class=\"data row2 col9\" >150</td>\n",
       "                        <td id=\"T_c82039b4_08b7_11ea_8723_086d41dd6a90row2_col10\" class=\"data row2 col10\" >3</td>\n",
       "                        <td id=\"T_c82039b4_08b7_11ea_8723_086d41dd6a90row2_col11\" class=\"data row2 col11\" >0</td>\n",
       "                        <td id=\"T_c82039b4_08b7_11ea_8723_086d41dd6a90row2_col12\" class=\"data row2 col12\" >nan</td>\n",
       "                        <td id=\"T_c82039b4_08b7_11ea_8723_086d41dd6a90row2_col13\" class=\"data row2 col13\" >nan</td>\n",
       "                        <td id=\"T_c82039b4_08b7_11ea_8723_086d41dd6a90row2_col14\" class=\"data row2 col14\" >1</td>\n",
       "                        <td id=\"T_c82039b4_08b7_11ea_8723_086d41dd6a90row2_col15\" class=\"data row2 col15\" >365</td>\n",
       "            </tr>\n",
       "            <tr>\n",
       "                        <th id=\"T_c82039b4_08b7_11ea_8723_086d41dd6a90level0_row3\" class=\"row_heading level0 row3\" >3</th>\n",
       "                        <td id=\"T_c82039b4_08b7_11ea_8723_086d41dd6a90row3_col0\" class=\"data row3 col0\" >3831</td>\n",
       "                        <td id=\"T_c82039b4_08b7_11ea_8723_086d41dd6a90row3_col1\" class=\"data row3 col1\" >Cozy Entire Floor of Brownstone</td>\n",
       "                        <td id=\"T_c82039b4_08b7_11ea_8723_086d41dd6a90row3_col2\" class=\"data row3 col2\" >4869</td>\n",
       "                        <td id=\"T_c82039b4_08b7_11ea_8723_086d41dd6a90row3_col3\" class=\"data row3 col3\" >LisaRoxanne</td>\n",
       "                        <td id=\"T_c82039b4_08b7_11ea_8723_086d41dd6a90row3_col4\" class=\"data row3 col4\" >Brooklyn</td>\n",
       "                        <td id=\"T_c82039b4_08b7_11ea_8723_086d41dd6a90row3_col5\" class=\"data row3 col5\" >Clinton Hill</td>\n",
       "                        <td id=\"T_c82039b4_08b7_11ea_8723_086d41dd6a90row3_col6\" class=\"data row3 col6\" >40.6851</td>\n",
       "                        <td id=\"T_c82039b4_08b7_11ea_8723_086d41dd6a90row3_col7\" class=\"data row3 col7\" >-73.9598</td>\n",
       "                        <td id=\"T_c82039b4_08b7_11ea_8723_086d41dd6a90row3_col8\" class=\"data row3 col8\" >Entire home/apt</td>\n",
       "                        <td id=\"T_c82039b4_08b7_11ea_8723_086d41dd6a90row3_col9\" class=\"data row3 col9\" >89</td>\n",
       "                        <td id=\"T_c82039b4_08b7_11ea_8723_086d41dd6a90row3_col10\" class=\"data row3 col10\" >1</td>\n",
       "                        <td id=\"T_c82039b4_08b7_11ea_8723_086d41dd6a90row3_col11\" class=\"data row3 col11\" >270</td>\n",
       "                        <td id=\"T_c82039b4_08b7_11ea_8723_086d41dd6a90row3_col12\" class=\"data row3 col12\" >2019-07-05</td>\n",
       "                        <td id=\"T_c82039b4_08b7_11ea_8723_086d41dd6a90row3_col13\" class=\"data row3 col13\" >4.64</td>\n",
       "                        <td id=\"T_c82039b4_08b7_11ea_8723_086d41dd6a90row3_col14\" class=\"data row3 col14\" >1</td>\n",
       "                        <td id=\"T_c82039b4_08b7_11ea_8723_086d41dd6a90row3_col15\" class=\"data row3 col15\" >194</td>\n",
       "            </tr>\n",
       "            <tr>\n",
       "                        <th id=\"T_c82039b4_08b7_11ea_8723_086d41dd6a90level0_row4\" class=\"row_heading level0 row4\" >4</th>\n",
       "                        <td id=\"T_c82039b4_08b7_11ea_8723_086d41dd6a90row4_col0\" class=\"data row4 col0\" >5022</td>\n",
       "                        <td id=\"T_c82039b4_08b7_11ea_8723_086d41dd6a90row4_col1\" class=\"data row4 col1\" >Entire Apt: Spacious Studio/Loft by central park</td>\n",
       "                        <td id=\"T_c82039b4_08b7_11ea_8723_086d41dd6a90row4_col2\" class=\"data row4 col2\" >7192</td>\n",
       "                        <td id=\"T_c82039b4_08b7_11ea_8723_086d41dd6a90row4_col3\" class=\"data row4 col3\" >Laura</td>\n",
       "                        <td id=\"T_c82039b4_08b7_11ea_8723_086d41dd6a90row4_col4\" class=\"data row4 col4\" >Manhattan</td>\n",
       "                        <td id=\"T_c82039b4_08b7_11ea_8723_086d41dd6a90row4_col5\" class=\"data row4 col5\" >East Harlem</td>\n",
       "                        <td id=\"T_c82039b4_08b7_11ea_8723_086d41dd6a90row4_col6\" class=\"data row4 col6\" >40.7985</td>\n",
       "                        <td id=\"T_c82039b4_08b7_11ea_8723_086d41dd6a90row4_col7\" class=\"data row4 col7\" >-73.944</td>\n",
       "                        <td id=\"T_c82039b4_08b7_11ea_8723_086d41dd6a90row4_col8\" class=\"data row4 col8\" >Entire home/apt</td>\n",
       "                        <td id=\"T_c82039b4_08b7_11ea_8723_086d41dd6a90row4_col9\" class=\"data row4 col9\" >80</td>\n",
       "                        <td id=\"T_c82039b4_08b7_11ea_8723_086d41dd6a90row4_col10\" class=\"data row4 col10\" >10</td>\n",
       "                        <td id=\"T_c82039b4_08b7_11ea_8723_086d41dd6a90row4_col11\" class=\"data row4 col11\" >9</td>\n",
       "                        <td id=\"T_c82039b4_08b7_11ea_8723_086d41dd6a90row4_col12\" class=\"data row4 col12\" >2018-11-19</td>\n",
       "                        <td id=\"T_c82039b4_08b7_11ea_8723_086d41dd6a90row4_col13\" class=\"data row4 col13\" >0.1</td>\n",
       "                        <td id=\"T_c82039b4_08b7_11ea_8723_086d41dd6a90row4_col14\" class=\"data row4 col14\" >1</td>\n",
       "                        <td id=\"T_c82039b4_08b7_11ea_8723_086d41dd6a90row4_col15\" class=\"data row4 col15\" >0</td>\n",
       "            </tr>\n",
       "    </tbody></table>"
      ],
      "text/plain": [
       "<pandas.io.formats.style.Styler at 0x11567cc90>"
      ]
     },
     "execution_count": 103,
     "metadata": {},
     "output_type": "execute_result"
    }
   ],
   "source": [
    "# Create a reference to the CSV and import it into a Pandas DataFrame\n",
    "nyc_airbnb_data = \"nyc_airbnd_data.csv\"\n",
    "nyc_airbnb_df = pd.read_csv(nyc_airbnb_data)\n",
    "nyc_airbnb_df.head().style"
   ]
  },
  {
   "cell_type": "code",
   "execution_count": 104,
   "metadata": {},
   "outputs": [
    {
     "data": {
      "text/html": [
       "<div>\n",
       "<style scoped>\n",
       "    .dataframe tbody tr th:only-of-type {\n",
       "        vertical-align: middle;\n",
       "    }\n",
       "\n",
       "    .dataframe tbody tr th {\n",
       "        vertical-align: top;\n",
       "    }\n",
       "\n",
       "    .dataframe thead th {\n",
       "        text-align: right;\n",
       "    }\n",
       "</style>\n",
       "<table border=\"1\" class=\"dataframe\">\n",
       "  <thead>\n",
       "    <tr style=\"text-align: right;\">\n",
       "      <th></th>\n",
       "      <th>name</th>\n",
       "      <th>neighbourhood_group</th>\n",
       "      <th>neighbourhood</th>\n",
       "      <th>room_type</th>\n",
       "      <th>price</th>\n",
       "      <th>minimum_nights</th>\n",
       "      <th>availability_365</th>\n",
       "      <th>id</th>\n",
       "    </tr>\n",
       "  </thead>\n",
       "  <tbody>\n",
       "    <tr>\n",
       "      <td>0</td>\n",
       "      <td>Clean &amp; quiet apt home by the park</td>\n",
       "      <td>Brooklyn</td>\n",
       "      <td>Kensington</td>\n",
       "      <td>Private room</td>\n",
       "      <td>149</td>\n",
       "      <td>1</td>\n",
       "      <td>365</td>\n",
       "      <td>2539</td>\n",
       "    </tr>\n",
       "    <tr>\n",
       "      <td>1</td>\n",
       "      <td>Skylit Midtown Castle</td>\n",
       "      <td>Manhattan</td>\n",
       "      <td>Midtown</td>\n",
       "      <td>Entire home/apt</td>\n",
       "      <td>225</td>\n",
       "      <td>1</td>\n",
       "      <td>355</td>\n",
       "      <td>2595</td>\n",
       "    </tr>\n",
       "    <tr>\n",
       "      <td>2</td>\n",
       "      <td>THE VILLAGE OF HARLEM....NEW YORK !</td>\n",
       "      <td>Manhattan</td>\n",
       "      <td>Harlem</td>\n",
       "      <td>Private room</td>\n",
       "      <td>150</td>\n",
       "      <td>3</td>\n",
       "      <td>365</td>\n",
       "      <td>3647</td>\n",
       "    </tr>\n",
       "    <tr>\n",
       "      <td>3</td>\n",
       "      <td>Cozy Entire Floor of Brownstone</td>\n",
       "      <td>Brooklyn</td>\n",
       "      <td>Clinton Hill</td>\n",
       "      <td>Entire home/apt</td>\n",
       "      <td>89</td>\n",
       "      <td>1</td>\n",
       "      <td>194</td>\n",
       "      <td>3831</td>\n",
       "    </tr>\n",
       "    <tr>\n",
       "      <td>4</td>\n",
       "      <td>Entire Apt: Spacious Studio/Loft by central park</td>\n",
       "      <td>Manhattan</td>\n",
       "      <td>East Harlem</td>\n",
       "      <td>Entire home/apt</td>\n",
       "      <td>80</td>\n",
       "      <td>10</td>\n",
       "      <td>0</td>\n",
       "      <td>5022</td>\n",
       "    </tr>\n",
       "  </tbody>\n",
       "</table>\n",
       "</div>"
      ],
      "text/plain": [
       "                                               name neighbourhood_group  \\\n",
       "0                Clean & quiet apt home by the park            Brooklyn   \n",
       "1                             Skylit Midtown Castle           Manhattan   \n",
       "2               THE VILLAGE OF HARLEM....NEW YORK !           Manhattan   \n",
       "3                   Cozy Entire Floor of Brownstone            Brooklyn   \n",
       "4  Entire Apt: Spacious Studio/Loft by central park           Manhattan   \n",
       "\n",
       "  neighbourhood        room_type  price  minimum_nights  availability_365  \\\n",
       "0    Kensington     Private room    149               1               365   \n",
       "1       Midtown  Entire home/apt    225               1               355   \n",
       "2        Harlem     Private room    150               3               365   \n",
       "3  Clinton Hill  Entire home/apt     89               1               194   \n",
       "4   East Harlem  Entire home/apt     80              10                 0   \n",
       "\n",
       "     id  \n",
       "0  2539  \n",
       "1  2595  \n",
       "2  3647  \n",
       "3  3831  \n",
       "4  5022  "
      ]
     },
     "execution_count": 104,
     "metadata": {},
     "output_type": "execute_result"
    }
   ],
   "source": [
    "# Create DataFrama\n",
    "nyc_airbnb = nyc_airbnb_df[[\"name\", \"neighbourhood_group\", \"neighbourhood\", \"room_type\", \"price\", \n",
    "                            \"minimum_nights\", \"availability_365\", \"id\"]]\n",
    "nyc_airbnb.head()"
   ]
  },
  {
   "cell_type": "code",
   "execution_count": 105,
   "metadata": {},
   "outputs": [
    {
     "data": {
      "text/html": [
       "<style  type=\"text/css\" >\n",
       "</style><table id=\"T_c832de02_08b7_11ea_8723_086d41dd6a90\" ><thead>    <tr>        <th class=\"blank level0\" ></th>        <th class=\"col_heading level0 col0\" >Name</th>        <th class=\"col_heading level0 col1\" >Borough</th>        <th class=\"col_heading level0 col2\" >Neighborhood</th>        <th class=\"col_heading level0 col3\" >Room Type</th>        <th class=\"col_heading level0 col4\" >Price</th>        <th class=\"col_heading level0 col5\" >Minimum Nights</th>        <th class=\"col_heading level0 col6\" >Yearly Availability</th>        <th class=\"col_heading level0 col7\" >ID</th>    </tr></thead><tbody>\n",
       "                <tr>\n",
       "                        <th id=\"T_c832de02_08b7_11ea_8723_086d41dd6a90level0_row0\" class=\"row_heading level0 row0\" >0</th>\n",
       "                        <td id=\"T_c832de02_08b7_11ea_8723_086d41dd6a90row0_col0\" class=\"data row0 col0\" >Clean & quiet apt home by the park</td>\n",
       "                        <td id=\"T_c832de02_08b7_11ea_8723_086d41dd6a90row0_col1\" class=\"data row0 col1\" >Brooklyn</td>\n",
       "                        <td id=\"T_c832de02_08b7_11ea_8723_086d41dd6a90row0_col2\" class=\"data row0 col2\" >Kensington</td>\n",
       "                        <td id=\"T_c832de02_08b7_11ea_8723_086d41dd6a90row0_col3\" class=\"data row0 col3\" >Private room</td>\n",
       "                        <td id=\"T_c832de02_08b7_11ea_8723_086d41dd6a90row0_col4\" class=\"data row0 col4\" >149</td>\n",
       "                        <td id=\"T_c832de02_08b7_11ea_8723_086d41dd6a90row0_col5\" class=\"data row0 col5\" >1</td>\n",
       "                        <td id=\"T_c832de02_08b7_11ea_8723_086d41dd6a90row0_col6\" class=\"data row0 col6\" >365</td>\n",
       "                        <td id=\"T_c832de02_08b7_11ea_8723_086d41dd6a90row0_col7\" class=\"data row0 col7\" >2539</td>\n",
       "            </tr>\n",
       "            <tr>\n",
       "                        <th id=\"T_c832de02_08b7_11ea_8723_086d41dd6a90level0_row1\" class=\"row_heading level0 row1\" >1</th>\n",
       "                        <td id=\"T_c832de02_08b7_11ea_8723_086d41dd6a90row1_col0\" class=\"data row1 col0\" >Skylit Midtown Castle</td>\n",
       "                        <td id=\"T_c832de02_08b7_11ea_8723_086d41dd6a90row1_col1\" class=\"data row1 col1\" >Manhattan</td>\n",
       "                        <td id=\"T_c832de02_08b7_11ea_8723_086d41dd6a90row1_col2\" class=\"data row1 col2\" >Midtown</td>\n",
       "                        <td id=\"T_c832de02_08b7_11ea_8723_086d41dd6a90row1_col3\" class=\"data row1 col3\" >Entire home/apt</td>\n",
       "                        <td id=\"T_c832de02_08b7_11ea_8723_086d41dd6a90row1_col4\" class=\"data row1 col4\" >225</td>\n",
       "                        <td id=\"T_c832de02_08b7_11ea_8723_086d41dd6a90row1_col5\" class=\"data row1 col5\" >1</td>\n",
       "                        <td id=\"T_c832de02_08b7_11ea_8723_086d41dd6a90row1_col6\" class=\"data row1 col6\" >355</td>\n",
       "                        <td id=\"T_c832de02_08b7_11ea_8723_086d41dd6a90row1_col7\" class=\"data row1 col7\" >2595</td>\n",
       "            </tr>\n",
       "            <tr>\n",
       "                        <th id=\"T_c832de02_08b7_11ea_8723_086d41dd6a90level0_row2\" class=\"row_heading level0 row2\" >2</th>\n",
       "                        <td id=\"T_c832de02_08b7_11ea_8723_086d41dd6a90row2_col0\" class=\"data row2 col0\" >THE VILLAGE OF HARLEM....NEW YORK !</td>\n",
       "                        <td id=\"T_c832de02_08b7_11ea_8723_086d41dd6a90row2_col1\" class=\"data row2 col1\" >Manhattan</td>\n",
       "                        <td id=\"T_c832de02_08b7_11ea_8723_086d41dd6a90row2_col2\" class=\"data row2 col2\" >Harlem</td>\n",
       "                        <td id=\"T_c832de02_08b7_11ea_8723_086d41dd6a90row2_col3\" class=\"data row2 col3\" >Private room</td>\n",
       "                        <td id=\"T_c832de02_08b7_11ea_8723_086d41dd6a90row2_col4\" class=\"data row2 col4\" >150</td>\n",
       "                        <td id=\"T_c832de02_08b7_11ea_8723_086d41dd6a90row2_col5\" class=\"data row2 col5\" >3</td>\n",
       "                        <td id=\"T_c832de02_08b7_11ea_8723_086d41dd6a90row2_col6\" class=\"data row2 col6\" >365</td>\n",
       "                        <td id=\"T_c832de02_08b7_11ea_8723_086d41dd6a90row2_col7\" class=\"data row2 col7\" >3647</td>\n",
       "            </tr>\n",
       "            <tr>\n",
       "                        <th id=\"T_c832de02_08b7_11ea_8723_086d41dd6a90level0_row3\" class=\"row_heading level0 row3\" >3</th>\n",
       "                        <td id=\"T_c832de02_08b7_11ea_8723_086d41dd6a90row3_col0\" class=\"data row3 col0\" >Cozy Entire Floor of Brownstone</td>\n",
       "                        <td id=\"T_c832de02_08b7_11ea_8723_086d41dd6a90row3_col1\" class=\"data row3 col1\" >Brooklyn</td>\n",
       "                        <td id=\"T_c832de02_08b7_11ea_8723_086d41dd6a90row3_col2\" class=\"data row3 col2\" >Clinton Hill</td>\n",
       "                        <td id=\"T_c832de02_08b7_11ea_8723_086d41dd6a90row3_col3\" class=\"data row3 col3\" >Entire home/apt</td>\n",
       "                        <td id=\"T_c832de02_08b7_11ea_8723_086d41dd6a90row3_col4\" class=\"data row3 col4\" >89</td>\n",
       "                        <td id=\"T_c832de02_08b7_11ea_8723_086d41dd6a90row3_col5\" class=\"data row3 col5\" >1</td>\n",
       "                        <td id=\"T_c832de02_08b7_11ea_8723_086d41dd6a90row3_col6\" class=\"data row3 col6\" >194</td>\n",
       "                        <td id=\"T_c832de02_08b7_11ea_8723_086d41dd6a90row3_col7\" class=\"data row3 col7\" >3831</td>\n",
       "            </tr>\n",
       "            <tr>\n",
       "                        <th id=\"T_c832de02_08b7_11ea_8723_086d41dd6a90level0_row4\" class=\"row_heading level0 row4\" >4</th>\n",
       "                        <td id=\"T_c832de02_08b7_11ea_8723_086d41dd6a90row4_col0\" class=\"data row4 col0\" >Entire Apt: Spacious Studio/Loft by central park</td>\n",
       "                        <td id=\"T_c832de02_08b7_11ea_8723_086d41dd6a90row4_col1\" class=\"data row4 col1\" >Manhattan</td>\n",
       "                        <td id=\"T_c832de02_08b7_11ea_8723_086d41dd6a90row4_col2\" class=\"data row4 col2\" >East Harlem</td>\n",
       "                        <td id=\"T_c832de02_08b7_11ea_8723_086d41dd6a90row4_col3\" class=\"data row4 col3\" >Entire home/apt</td>\n",
       "                        <td id=\"T_c832de02_08b7_11ea_8723_086d41dd6a90row4_col4\" class=\"data row4 col4\" >80</td>\n",
       "                        <td id=\"T_c832de02_08b7_11ea_8723_086d41dd6a90row4_col5\" class=\"data row4 col5\" >10</td>\n",
       "                        <td id=\"T_c832de02_08b7_11ea_8723_086d41dd6a90row4_col6\" class=\"data row4 col6\" >0</td>\n",
       "                        <td id=\"T_c832de02_08b7_11ea_8723_086d41dd6a90row4_col7\" class=\"data row4 col7\" >5022</td>\n",
       "            </tr>\n",
       "    </tbody></table>"
      ],
      "text/plain": [
       "<pandas.io.formats.style.Styler at 0x11c833410>"
      ]
     },
     "execution_count": 105,
     "metadata": {},
     "output_type": "execute_result"
    }
   ],
   "source": [
    "# Rename columns\n",
    "nyc_airbnb = nyc_airbnb.rename(columns={\"name\": \"Name\",\n",
    "                                        \"neighbourhood_group\": \"Borough\",\n",
    "                                        \"neighbourhood\": \"Neighborhood\",\n",
    "                                        \"room_type\": \"Room Type\",\n",
    "                                        \"price\": \"Price\",\n",
    "                                        \"minimum_nights\": \"Minimum Nights\",\n",
    "                                        \"availability_365\": \"Yearly Availability\",\n",
    "                                        \"id\": \"ID\"})\n",
    "\n",
    "nyc_airbnb.head().style"
   ]
  },
  {
   "cell_type": "code",
   "execution_count": 106,
   "metadata": {},
   "outputs": [
    {
     "data": {
      "text/html": [
       "<div>\n",
       "<style scoped>\n",
       "    .dataframe tbody tr th:only-of-type {\n",
       "        vertical-align: middle;\n",
       "    }\n",
       "\n",
       "    .dataframe tbody tr th {\n",
       "        vertical-align: top;\n",
       "    }\n",
       "\n",
       "    .dataframe thead th {\n",
       "        text-align: right;\n",
       "    }\n",
       "</style>\n",
       "<table border=\"1\" class=\"dataframe\">\n",
       "  <thead>\n",
       "    <tr style=\"text-align: right;\">\n",
       "      <th></th>\n",
       "      <th>Name</th>\n",
       "      <th>Borough</th>\n",
       "      <th>Neighborhood</th>\n",
       "      <th>Room Type</th>\n",
       "      <th>Price</th>\n",
       "      <th>Minimum Nights</th>\n",
       "      <th>Yearly Availability</th>\n",
       "      <th>ID</th>\n",
       "    </tr>\n",
       "  </thead>\n",
       "  <tbody>\n",
       "    <tr>\n",
       "      <td>0</td>\n",
       "      <td>Clean &amp; quiet apt home by the park</td>\n",
       "      <td>Brooklyn</td>\n",
       "      <td>Kensington</td>\n",
       "      <td>Private room</td>\n",
       "      <td>149</td>\n",
       "      <td>1</td>\n",
       "      <td>365</td>\n",
       "      <td>2539</td>\n",
       "    </tr>\n",
       "    <tr>\n",
       "      <td>1</td>\n",
       "      <td>Skylit Midtown Castle</td>\n",
       "      <td>Manhattan</td>\n",
       "      <td>Midtown</td>\n",
       "      <td>Entire home/apt</td>\n",
       "      <td>225</td>\n",
       "      <td>1</td>\n",
       "      <td>355</td>\n",
       "      <td>2595</td>\n",
       "    </tr>\n",
       "    <tr>\n",
       "      <td>2</td>\n",
       "      <td>THE VILLAGE OF HARLEM....NEW YORK !</td>\n",
       "      <td>Manhattan</td>\n",
       "      <td>Harlem</td>\n",
       "      <td>Private room</td>\n",
       "      <td>150</td>\n",
       "      <td>3</td>\n",
       "      <td>365</td>\n",
       "      <td>3647</td>\n",
       "    </tr>\n",
       "    <tr>\n",
       "      <td>3</td>\n",
       "      <td>Cozy Entire Floor of Brownstone</td>\n",
       "      <td>Brooklyn</td>\n",
       "      <td>Clinton Hill</td>\n",
       "      <td>Entire home/apt</td>\n",
       "      <td>89</td>\n",
       "      <td>1</td>\n",
       "      <td>194</td>\n",
       "      <td>3831</td>\n",
       "    </tr>\n",
       "    <tr>\n",
       "      <td>4</td>\n",
       "      <td>Large Cozy 1 BR Apartment In Midtown East</td>\n",
       "      <td>Manhattan</td>\n",
       "      <td>Murray Hill</td>\n",
       "      <td>Entire home/apt</td>\n",
       "      <td>200</td>\n",
       "      <td>3</td>\n",
       "      <td>129</td>\n",
       "      <td>5099</td>\n",
       "    </tr>\n",
       "  </tbody>\n",
       "</table>\n",
       "</div>"
      ],
      "text/plain": [
       "                                        Name    Borough  Neighborhood  \\\n",
       "0         Clean & quiet apt home by the park   Brooklyn    Kensington   \n",
       "1                      Skylit Midtown Castle  Manhattan       Midtown   \n",
       "2        THE VILLAGE OF HARLEM....NEW YORK !  Manhattan        Harlem   \n",
       "3            Cozy Entire Floor of Brownstone   Brooklyn  Clinton Hill   \n",
       "4  Large Cozy 1 BR Apartment In Midtown East  Manhattan   Murray Hill   \n",
       "\n",
       "         Room Type  Price  Minimum Nights  Yearly Availability    ID  \n",
       "0     Private room    149               1                  365  2539  \n",
       "1  Entire home/apt    225               1                  355  2595  \n",
       "2     Private room    150               3                  365  3647  \n",
       "3  Entire home/apt     89               1                  194  3831  \n",
       "4  Entire home/apt    200               3                  129  5099  "
      ]
     },
     "execution_count": 106,
     "metadata": {},
     "output_type": "execute_result"
    }
   ],
   "source": [
    "#DROP ROWS WHERE YEARLY AVAILABILITY = 0\n",
    "airbnb_df = nyc_airbnb[nyc_airbnb[\"Yearly Availability\"] != 0]\n",
    "# Reset Index\n",
    "airbnb_df.reset_index(inplace=True,drop=True)\n",
    "airbnb_df.head()"
   ]
  },
  {
   "cell_type": "code",
   "execution_count": null,
   "metadata": {},
   "outputs": [],
   "source": []
  },
  {
   "cell_type": "markdown",
   "metadata": {},
   "source": [
    "                            PATRICIA"
   ]
  },
  {
   "cell_type": "code",
   "execution_count": 107,
   "metadata": {},
   "outputs": [],
   "source": [
    "B = airbnb_df.sort_values(\n",
    "    ['Borough', 'Neighborhood'])\n"
   ]
  },
  {
   "cell_type": "code",
   "execution_count": 108,
   "metadata": {
    "scrolled": true
   },
   "outputs": [
    {
     "data": {
      "text/html": [
       "<div>\n",
       "<style scoped>\n",
       "    .dataframe tbody tr th:only-of-type {\n",
       "        vertical-align: middle;\n",
       "    }\n",
       "\n",
       "    .dataframe tbody tr th {\n",
       "        vertical-align: top;\n",
       "    }\n",
       "\n",
       "    .dataframe thead th {\n",
       "        text-align: right;\n",
       "    }\n",
       "</style>\n",
       "<table border=\"1\" class=\"dataframe\">\n",
       "  <thead>\n",
       "    <tr style=\"text-align: right;\">\n",
       "      <th></th>\n",
       "      <th>Borough</th>\n",
       "      <th>Neighborhood</th>\n",
       "      <th>Room Type</th>\n",
       "      <th>Price</th>\n",
       "      <th>ID</th>\n",
       "    </tr>\n",
       "  </thead>\n",
       "  <tbody>\n",
       "    <tr>\n",
       "      <td>0</td>\n",
       "      <td>Bronx</td>\n",
       "      <td>Allerton</td>\n",
       "      <td>Entire home/apt</td>\n",
       "      <td>125</td>\n",
       "      <td>182177</td>\n",
       "    </tr>\n",
       "    <tr>\n",
       "      <td>1</td>\n",
       "      <td>Bronx</td>\n",
       "      <td>Allerton</td>\n",
       "      <td>Private room</td>\n",
       "      <td>35</td>\n",
       "      <td>498120</td>\n",
       "    </tr>\n",
       "    <tr>\n",
       "      <td>2</td>\n",
       "      <td>Bronx</td>\n",
       "      <td>Allerton</td>\n",
       "      <td>Private room</td>\n",
       "      <td>39</td>\n",
       "      <td>715270</td>\n",
       "    </tr>\n",
       "    <tr>\n",
       "      <td>3</td>\n",
       "      <td>Bronx</td>\n",
       "      <td>Allerton</td>\n",
       "      <td>Entire home/apt</td>\n",
       "      <td>49</td>\n",
       "      <td>755528</td>\n",
       "    </tr>\n",
       "    <tr>\n",
       "      <td>4</td>\n",
       "      <td>Bronx</td>\n",
       "      <td>Allerton</td>\n",
       "      <td>Private room</td>\n",
       "      <td>38</td>\n",
       "      <td>773041</td>\n",
       "    </tr>\n",
       "  </tbody>\n",
       "</table>\n",
       "</div>"
      ],
      "text/plain": [
       "  Borough Neighborhood        Room Type  Price      ID\n",
       "0   Bronx     Allerton  Entire home/apt    125  182177\n",
       "1   Bronx     Allerton     Private room     35  498120\n",
       "2   Bronx     Allerton     Private room     39  715270\n",
       "3   Bronx     Allerton  Entire home/apt     49  755528\n",
       "4   Bronx     Allerton     Private room     38  773041"
      ]
     },
     "execution_count": 108,
     "metadata": {},
     "output_type": "execute_result"
    }
   ],
   "source": [
    "BnN = B.drop(['Name', 'Minimum Nights', 'Yearly Availability'], axis=1).reset_index(drop=True)\n",
    "BnN.head()"
   ]
  },
  {
   "cell_type": "code",
   "execution_count": 109,
   "metadata": {},
   "outputs": [],
   "source": [
    "terms=[]\n",
    "for _,row in BnN.iterrows():\n",
    "   term=row['Neighborhood']+','+row['Borough']+', NYC'\n",
    "   if term not in terms:\n",
    "       terms.append(term)\n",
    "len(terms)\n",
    "lats=[]\n",
    "lngs=[]\n",
    "locs=[]\n",
    "for term in terms:\n",
    "   try:\n",
    "       queryurl=url+term\n",
    "       response=requests.get(queryurl).json()\n",
    "       pair=response['results'][0]['locations'][0]['latLng']\n",
    "       lats.append(pair['lat'])\n",
    "       lngs.append(pair['lng'])\n",
    "       locs.append(term)\n",
    "   except:\n",
    "       continue\n",
    "Ns=[]\n",
    "Bs=[]\n",
    "for loc in locs:\n",
    "   s=loc.split(',')\n",
    "   Ns.append(s[0])\n",
    "   Bs.append(s[1])\n",
    "newdf=pd.DataFrame({'lats':lats,'lngs':lngs,'Neighborhood':Ns,'Borough':Bs})\n",
    "BnN=BnN.merge(newdf,how='left',on=['Neighborhood','Borough'])\n"
   ]
  },
  {
   "cell_type": "code",
   "execution_count": 110,
   "metadata": {},
   "outputs": [],
   "source": [
    "response['results'][0]['locations'][0]['latLng']\n",
    "price = BnN[\"Price\"].astype(float)"
   ]
  },
  {
   "cell_type": "code",
   "execution_count": 111,
   "metadata": {},
   "outputs": [],
   "source": [
    "lats = BnN['lats']\n",
    "\n",
    "lngs = BnN['lngs']\n",
    "prices=BnN['Price']"
   ]
  },
  {
   "cell_type": "code",
   "execution_count": 112,
   "metadata": {},
   "outputs": [],
   "source": [
    "from ipyleaflet import Map, Heatmap, Marker, MarkerCluster\n",
    "\n",
    "m = Map(center=(40.730610, -73.935242), zoom=10, dragging=True)"
   ]
  },
  {
   "cell_type": "code",
   "execution_count": 113,
   "metadata": {},
   "outputs": [],
   "source": [
    "marker_locs=[]\n",
    "for i in range(0,len(prices)):\n",
    "    marker_loc =  lats[i],lngs[i],prices[i]\n",
    "    marker_locs.append(marker_loc)"
   ]
  },
  {
   "cell_type": "code",
   "execution_count": 114,
   "metadata": {},
   "outputs": [
    {
     "name": "stdout",
     "output_type": "stream",
     "text": [
      "(40.86553, -73.86247, 125)\n"
     ]
    },
    {
     "data": {
      "application/vnd.jupyter.widget-view+json": {
       "model_id": "5446e27ffa4e4c1e84ef6e5b224664c2",
       "version_major": 2,
       "version_minor": 0
      },
      "text/plain": [
       "Map(basemap={'url': 'https://{s}.tile.openstreetmap.org/{z}/{x}/{y}.png', 'max_zoom': 19, 'attribution': 'Map …"
      ]
     },
     "metadata": {},
     "output_type": "display_data"
    }
   ],
   "source": [
    "heatmap = Heatmap(\n",
    "    locations=marker_locs,\n",
    "\n",
    "    \n",
    ")\n",
    "\n",
    " #Change some attributes of the heatmap\n",
    "heatmap.radius = 10\n",
    "heatmap.blur = 5\n",
    "heatmap.max = 1000\n",
    "heatmap.gradient = {0.4: 'lime', 0.6: 'cyan', 0.7: 'yellow', 0.8: 'orange', 1.0: 'red'}\n",
    "\n",
    "m.add_layer(heatmap);\n",
    "\n",
    "print(marker_locs[0])\n",
    "m"
   ]
  },
  {
   "cell_type": "code",
   "execution_count": 115,
   "metadata": {},
   "outputs": [
    {
     "data": {
      "text/html": [
       "<div>\n",
       "<style scoped>\n",
       "    .dataframe tbody tr th:only-of-type {\n",
       "        vertical-align: middle;\n",
       "    }\n",
       "\n",
       "    .dataframe tbody tr th {\n",
       "        vertical-align: top;\n",
       "    }\n",
       "\n",
       "    .dataframe thead th {\n",
       "        text-align: right;\n",
       "    }\n",
       "</style>\n",
       "<table border=\"1\" class=\"dataframe\">\n",
       "  <thead>\n",
       "    <tr style=\"text-align: right;\">\n",
       "      <th></th>\n",
       "      <th>Borough</th>\n",
       "      <th>Neighborhood</th>\n",
       "      <th>Room Type</th>\n",
       "      <th>Price</th>\n",
       "      <th>ID</th>\n",
       "      <th>lats</th>\n",
       "      <th>lngs</th>\n",
       "      <th>Price Summary per Neighborhood</th>\n",
       "    </tr>\n",
       "  </thead>\n",
       "  <tbody>\n",
       "    <tr>\n",
       "      <td>0</td>\n",
       "      <td>Bronx</td>\n",
       "      <td>Allerton</td>\n",
       "      <td>Entire home/apt</td>\n",
       "      <td>125</td>\n",
       "      <td>182177</td>\n",
       "      <td>40.86553</td>\n",
       "      <td>-73.86247</td>\n",
       "      <td>100-149</td>\n",
       "    </tr>\n",
       "    <tr>\n",
       "      <td>1</td>\n",
       "      <td>Bronx</td>\n",
       "      <td>Allerton</td>\n",
       "      <td>Private room</td>\n",
       "      <td>35</td>\n",
       "      <td>498120</td>\n",
       "      <td>40.86553</td>\n",
       "      <td>-73.86247</td>\n",
       "      <td>&lt; 50</td>\n",
       "    </tr>\n",
       "    <tr>\n",
       "      <td>2</td>\n",
       "      <td>Bronx</td>\n",
       "      <td>Allerton</td>\n",
       "      <td>Private room</td>\n",
       "      <td>39</td>\n",
       "      <td>715270</td>\n",
       "      <td>40.86553</td>\n",
       "      <td>-73.86247</td>\n",
       "      <td>&lt; 50</td>\n",
       "    </tr>\n",
       "    <tr>\n",
       "      <td>3</td>\n",
       "      <td>Bronx</td>\n",
       "      <td>Allerton</td>\n",
       "      <td>Entire home/apt</td>\n",
       "      <td>49</td>\n",
       "      <td>755528</td>\n",
       "      <td>40.86553</td>\n",
       "      <td>-73.86247</td>\n",
       "      <td>&lt; 50</td>\n",
       "    </tr>\n",
       "    <tr>\n",
       "      <td>4</td>\n",
       "      <td>Bronx</td>\n",
       "      <td>Allerton</td>\n",
       "      <td>Private room</td>\n",
       "      <td>38</td>\n",
       "      <td>773041</td>\n",
       "      <td>40.86553</td>\n",
       "      <td>-73.86247</td>\n",
       "      <td>&lt; 50</td>\n",
       "    </tr>\n",
       "  </tbody>\n",
       "</table>\n",
       "</div>"
      ],
      "text/plain": [
       "  Borough Neighborhood        Room Type  Price      ID      lats      lngs  \\\n",
       "0   Bronx     Allerton  Entire home/apt    125  182177  40.86553 -73.86247   \n",
       "1   Bronx     Allerton     Private room     35  498120  40.86553 -73.86247   \n",
       "2   Bronx     Allerton     Private room     39  715270  40.86553 -73.86247   \n",
       "3   Bronx     Allerton  Entire home/apt     49  755528  40.86553 -73.86247   \n",
       "4   Bronx     Allerton     Private room     38  773041  40.86553 -73.86247   \n",
       "\n",
       "  Price Summary per Neighborhood  \n",
       "0                        100-149  \n",
       "1                           < 50  \n",
       "2                           < 50  \n",
       "3                           < 50  \n",
       "4                           < 50  "
      ]
     },
     "execution_count": 115,
     "metadata": {},
     "output_type": "execute_result"
    }
   ],
   "source": [
    "# Create the bins in which Data will be held\n",
    "# Bins are 0, 59, 69, 79, 89, 100.   \n",
    "bins = [0, 49, 99, 149, 199, 249, 299, 10000]\n",
    "\n",
    "# Create the names for the four bins\n",
    "group_names = [\"< 50\", \"50-99\", \"100-149\", \"150-199\", \"200-249\", \"250-299\",\"> 300\"]\n",
    "\n",
    "BnN[\"Price Summary per Neighborhood\"] = pd.cut(BnN[\"Price\"], bins, labels=group_names)\n",
    "BnN.head()"
   ]
  },
  {
   "cell_type": "code",
   "execution_count": 116,
   "metadata": {},
   "outputs": [
    {
     "data": {
      "text/html": [
       "<div>\n",
       "<style scoped>\n",
       "    .dataframe tbody tr th:only-of-type {\n",
       "        vertical-align: middle;\n",
       "    }\n",
       "\n",
       "    .dataframe tbody tr th {\n",
       "        vertical-align: top;\n",
       "    }\n",
       "\n",
       "    .dataframe thead th {\n",
       "        text-align: right;\n",
       "    }\n",
       "</style>\n",
       "<table border=\"1\" class=\"dataframe\">\n",
       "  <thead>\n",
       "    <tr style=\"text-align: right;\">\n",
       "      <th></th>\n",
       "      <th>Price</th>\n",
       "      <th>ID</th>\n",
       "    </tr>\n",
       "    <tr>\n",
       "      <th>Price Summary per Neighborhood</th>\n",
       "      <th></th>\n",
       "      <th></th>\n",
       "    </tr>\n",
       "  </thead>\n",
       "  <tbody>\n",
       "    <tr>\n",
       "      <td>&lt; 50</td>\n",
       "      <td>3103</td>\n",
       "      <td>3103</td>\n",
       "    </tr>\n",
       "    <tr>\n",
       "      <td>50-99</td>\n",
       "      <td>10426</td>\n",
       "      <td>10426</td>\n",
       "    </tr>\n",
       "    <tr>\n",
       "      <td>100-149</td>\n",
       "      <td>6207</td>\n",
       "      <td>6207</td>\n",
       "    </tr>\n",
       "    <tr>\n",
       "      <td>150-199</td>\n",
       "      <td>4645</td>\n",
       "      <td>4645</td>\n",
       "    </tr>\n",
       "    <tr>\n",
       "      <td>200-249</td>\n",
       "      <td>2408</td>\n",
       "      <td>2408</td>\n",
       "    </tr>\n",
       "  </tbody>\n",
       "</table>\n",
       "</div>"
      ],
      "text/plain": [
       "                                Price     ID\n",
       "Price Summary per Neighborhood              \n",
       "< 50                             3103   3103\n",
       "50-99                           10426  10426\n",
       "100-149                          6207   6207\n",
       "150-199                          4645   4645\n",
       "200-249                          2408   2408"
      ]
     },
     "execution_count": 116,
     "metadata": {},
     "output_type": "execute_result"
    }
   ],
   "source": [
    "#number of apartments available per price group\n",
    "# Split up our data into groups based upon 'price'\n",
    "# Find out how many apts are available is each price range\n",
    "BnN_Price = BnN.groupby(\"Price Summary per Neighborhood\").count()\n",
    "apt_price = BnN_Price.drop(['Borough','Neighborhood','Room Type','lats','lngs'], axis=1)\n",
    "apt_price.head()"
   ]
  },
  {
   "cell_type": "code",
   "execution_count": 117,
   "metadata": {},
   "outputs": [
    {
     "data": {
      "image/png": "[encoded data removed]",
      "text/plain": [
       "<Figure size 432x288 with 1 Axes>"
      ]
     },
     "metadata": {
      "needs_background": "light"
     },
     "output_type": "display_data"
    },
    {
     "data": {
      "text/plain": [
       "<Figure size 432x288 with 0 Axes>"
      ]
     },
     "metadata": {},
     "output_type": "display_data"
    }
   ],
   "source": [
    "import matplotlib.pyplot as plt\n",
    "\n",
    "# Chart our data, give it a title, and label the axes\n",
    "Apt_price = apt_price.plot(kind=\"bar\", title=\"Amount of Apartments Available per Price Range\")\n",
    "Apt_price.set_xlabel(\"Price Range\")\n",
    "Apt_price.set_ylabel(\"Apts per Price Range\")\n",
    "\n",
    "plt.show()\n",
    "plt.tight_layout()"
   ]
  },
  {
   "cell_type": "markdown",
   "metadata": {},
   "source": [
    "                        MANUELA"
   ]
  },
  {
   "cell_type": "code",
   "execution_count": 118,
   "metadata": {},
   "outputs": [
    {
     "data": {
      "text/html": [
       "<div>\n",
       "<style scoped>\n",
       "    .dataframe tbody tr th:only-of-type {\n",
       "        vertical-align: middle;\n",
       "    }\n",
       "\n",
       "    .dataframe tbody tr th {\n",
       "        vertical-align: top;\n",
       "    }\n",
       "\n",
       "    .dataframe thead th {\n",
       "        text-align: right;\n",
       "    }\n",
       "</style>\n",
       "<table border=\"1\" class=\"dataframe\">\n",
       "  <thead>\n",
       "    <tr style=\"text-align: right;\">\n",
       "      <th></th>\n",
       "      <th>Yearly Availability</th>\n",
       "      <th>Room Type</th>\n",
       "    </tr>\n",
       "  </thead>\n",
       "  <tbody>\n",
       "    <tr>\n",
       "      <td>0</td>\n",
       "      <td>365</td>\n",
       "      <td>Private room</td>\n",
       "    </tr>\n",
       "    <tr>\n",
       "      <td>1</td>\n",
       "      <td>355</td>\n",
       "      <td>Entire home/apt</td>\n",
       "    </tr>\n",
       "    <tr>\n",
       "      <td>2</td>\n",
       "      <td>365</td>\n",
       "      <td>Private room</td>\n",
       "    </tr>\n",
       "    <tr>\n",
       "      <td>3</td>\n",
       "      <td>194</td>\n",
       "      <td>Entire home/apt</td>\n",
       "    </tr>\n",
       "    <tr>\n",
       "      <td>4</td>\n",
       "      <td>129</td>\n",
       "      <td>Entire home/apt</td>\n",
       "    </tr>\n",
       "  </tbody>\n",
       "</table>\n",
       "</div>"
      ],
      "text/plain": [
       "   Yearly Availability        Room Type\n",
       "0                  365     Private room\n",
       "1                  355  Entire home/apt\n",
       "2                  365     Private room\n",
       "3                  194  Entire home/apt\n",
       "4                  129  Entire home/apt"
      ]
     },
     "execution_count": 118,
     "metadata": {},
     "output_type": "execute_result"
    }
   ],
   "source": [
    "first_df = airbnb_df[[\"Yearly Availability\", \"Room Type\"]]\n",
    "first_df.head()"
   ]
  },
  {
   "cell_type": "code",
   "execution_count": 119,
   "metadata": {},
   "outputs": [
    {
     "data": {
      "text/html": [
       "<div>\n",
       "<style scoped>\n",
       "    .dataframe tbody tr th:only-of-type {\n",
       "        vertical-align: middle;\n",
       "    }\n",
       "\n",
       "    .dataframe tbody tr th {\n",
       "        vertical-align: top;\n",
       "    }\n",
       "\n",
       "    .dataframe thead th {\n",
       "        text-align: right;\n",
       "    }\n",
       "</style>\n",
       "<table border=\"1\" class=\"dataframe\">\n",
       "  <thead>\n",
       "    <tr style=\"text-align: right;\">\n",
       "      <th></th>\n",
       "      <th>Room Type</th>\n",
       "      <th>Sum of Days Available During the Year</th>\n",
       "    </tr>\n",
       "  </thead>\n",
       "  <tbody>\n",
       "    <tr>\n",
       "      <td>0</td>\n",
       "      <td>Entire home/apt</td>\n",
       "      <td>16533</td>\n",
       "    </tr>\n",
       "    <tr>\n",
       "      <td>1</td>\n",
       "      <td>Private room</td>\n",
       "      <td>13965</td>\n",
       "    </tr>\n",
       "    <tr>\n",
       "      <td>2</td>\n",
       "      <td>Shared room</td>\n",
       "      <td>864</td>\n",
       "    </tr>\n",
       "  </tbody>\n",
       "</table>\n",
       "</div>"
      ],
      "text/plain": [
       "         Room Type  Sum of Days Available During the Year\n",
       "0  Entire home/apt                                  16533\n",
       "1     Private room                                  13965\n",
       "2      Shared room                                    864"
      ]
     },
     "execution_count": 119,
     "metadata": {},
     "output_type": "execute_result"
    }
   ],
   "source": [
    "roomtgrouped = first_df.groupby([\"Room Type\"]).count()\n",
    "roomtgroupeddf = pd.DataFrame(roomtgrouped)\n",
    "roomtgroupeddf.reset_index(level = None, inplace = True)\n",
    "roomtgroupeddf = roomtgroupeddf.rename(columns = {\"Yearly Availability\" : \"Sum of Days Available During the Year\"})\n",
    "roomtgroupeddf"
   ]
  },
  {
   "cell_type": "code",
   "execution_count": 120,
   "metadata": {},
   "outputs": [
    {
     "data": {
      "image/png": "[encoded data removed]",
      "text/plain": [
       "<Figure size 432x288 with 1 Axes>"
      ]
     },
     "metadata": {
      "needs_background": "light"
     },
     "output_type": "display_data"
    },
    {
     "data": {
      "text/plain": [
       "<Figure size 432x288 with 0 Axes>"
      ]
     },
     "metadata": {},
     "output_type": "display_data"
    }
   ],
   "source": [
    "y_axis = roomtgroupeddf[\"Sum of Days Available During the Year\"]\n",
    "x_axis = roomtgroupeddf[\"Room Type\"]\n",
    "plt.bar(x_axis, y_axis, color=\"b\", align=\"center\")\n",
    "plt.title(\"Room Type vs. Sum of Days Available During the Year\")\n",
    "plt.xlabel(\"Room Types\")\n",
    "plt.ylabel(\"Sum of Days Available During the Year\")\n",
    "\n",
    "\n",
    "plt.show()\n",
    "plt.tight_layout()"
   ]
  },
  {
   "cell_type": "code",
   "execution_count": 121,
   "metadata": {},
   "outputs": [],
   "source": [
    "# IN THE NEW YORK AREA, THERE'S HIGHER AVAILABILITY OF ENTIRE APARTMENTS THROUGHOUT THE YEAR (GREATER AMOUNT OF DAYS AVAILABLE). SECOND IS PRIVATE ROOMS, AND THIRD IS A SMALL AMOUNT OF SHARED ROOMS AVAILABLE."
   ]
  },
  {
   "cell_type": "code",
   "execution_count": 122,
   "metadata": {},
   "outputs": [
    {
     "data": {
      "text/html": [
       "<div>\n",
       "<style scoped>\n",
       "    .dataframe tbody tr th:only-of-type {\n",
       "        vertical-align: middle;\n",
       "    }\n",
       "\n",
       "    .dataframe tbody tr th {\n",
       "        vertical-align: top;\n",
       "    }\n",
       "\n",
       "    .dataframe thead th {\n",
       "        text-align: right;\n",
       "    }\n",
       "</style>\n",
       "<table border=\"1\" class=\"dataframe\">\n",
       "  <thead>\n",
       "    <tr style=\"text-align: right;\">\n",
       "      <th></th>\n",
       "      <th>Borough</th>\n",
       "      <th>Room Type</th>\n",
       "    </tr>\n",
       "  </thead>\n",
       "  <tbody>\n",
       "    <tr>\n",
       "      <td>0</td>\n",
       "      <td>Brooklyn</td>\n",
       "      <td>Private room</td>\n",
       "    </tr>\n",
       "    <tr>\n",
       "      <td>1</td>\n",
       "      <td>Manhattan</td>\n",
       "      <td>Entire home/apt</td>\n",
       "    </tr>\n",
       "    <tr>\n",
       "      <td>2</td>\n",
       "      <td>Manhattan</td>\n",
       "      <td>Private room</td>\n",
       "    </tr>\n",
       "    <tr>\n",
       "      <td>3</td>\n",
       "      <td>Brooklyn</td>\n",
       "      <td>Entire home/apt</td>\n",
       "    </tr>\n",
       "    <tr>\n",
       "      <td>4</td>\n",
       "      <td>Manhattan</td>\n",
       "      <td>Entire home/apt</td>\n",
       "    </tr>\n",
       "  </tbody>\n",
       "</table>\n",
       "</div>"
      ],
      "text/plain": [
       "     Borough        Room Type\n",
       "0   Brooklyn     Private room\n",
       "1  Manhattan  Entire home/apt\n",
       "2  Manhattan     Private room\n",
       "3   Brooklyn  Entire home/apt\n",
       "4  Manhattan  Entire home/apt"
      ]
     },
     "execution_count": 122,
     "metadata": {},
     "output_type": "execute_result"
    }
   ],
   "source": [
    "second_df = airbnb_df[[\"Borough\", \"Room Type\"]]\n",
    "second_df.head()"
   ]
  },
  {
   "cell_type": "code",
   "execution_count": 123,
   "metadata": {},
   "outputs": [
    {
     "data": {
      "text/html": [
       "<div>\n",
       "<style scoped>\n",
       "    .dataframe tbody tr th:only-of-type {\n",
       "        vertical-align: middle;\n",
       "    }\n",
       "\n",
       "    .dataframe tbody tr th {\n",
       "        vertical-align: top;\n",
       "    }\n",
       "\n",
       "    .dataframe thead th {\n",
       "        text-align: right;\n",
       "    }\n",
       "</style>\n",
       "<table border=\"1\" class=\"dataframe\">\n",
       "  <thead>\n",
       "    <tr style=\"text-align: right;\">\n",
       "      <th></th>\n",
       "      <th>Borough</th>\n",
       "      <th>Total Number of Rooms/ Apts</th>\n",
       "    </tr>\n",
       "  </thead>\n",
       "  <tbody>\n",
       "    <tr>\n",
       "      <td>0</td>\n",
       "      <td>Bronx</td>\n",
       "      <td>914</td>\n",
       "    </tr>\n",
       "    <tr>\n",
       "      <td>1</td>\n",
       "      <td>Brooklyn</td>\n",
       "      <td>12260</td>\n",
       "    </tr>\n",
       "    <tr>\n",
       "      <td>2</td>\n",
       "      <td>Manhattan</td>\n",
       "      <td>13559</td>\n",
       "    </tr>\n",
       "    <tr>\n",
       "      <td>3</td>\n",
       "      <td>Queens</td>\n",
       "      <td>4298</td>\n",
       "    </tr>\n",
       "    <tr>\n",
       "      <td>4</td>\n",
       "      <td>Staten Island</td>\n",
       "      <td>331</td>\n",
       "    </tr>\n",
       "  </tbody>\n",
       "</table>\n",
       "</div>"
      ],
      "text/plain": [
       "         Borough  Total Number of Rooms/ Apts\n",
       "0          Bronx                          914\n",
       "1       Brooklyn                        12260\n",
       "2      Manhattan                        13559\n",
       "3         Queens                         4298\n",
       "4  Staten Island                          331"
      ]
     },
     "execution_count": 123,
     "metadata": {},
     "output_type": "execute_result"
    }
   ],
   "source": [
    "boroughgrouped = second_df.groupby([\"Borough\"]).count()\n",
    "boroughgroupeddf = pd.DataFrame(boroughgrouped)\n",
    "boroughgroupeddf.reset_index(level = None, inplace = True)\n",
    "boroughgroupeddf = boroughgroupeddf.rename(columns = {\"Room Type\" : \"Total Number of Rooms/ Apts\"})\n",
    "boroughgroupeddf"
   ]
  },
  {
   "cell_type": "code",
   "execution_count": 124,
   "metadata": {},
   "outputs": [],
   "source": [
    "y2_axis = boroughgroupeddf[\"Borough\"]\n",
    "x2_axis = boroughgroupeddf[\"Total Number of Rooms/ Apts\"]\n",
    "colors = [\"red\", \"orange\", \"lightcoral\", \"lightskyblue\", \"blue\"]"
   ]
  },
  {
   "cell_type": "code",
   "execution_count": 125,
   "metadata": {},
   "outputs": [
    {
     "data": {
      "text/plain": [
       "([<matplotlib.patches.Wedge at 0x11fdbbdd0>,\n",
       "  <matplotlib.patches.Wedge at 0x11fdc96d0>,\n",
       "  <matplotlib.patches.Wedge at 0x11fdd41d0>,\n",
       "  <matplotlib.patches.Wedge at 0x11fdd4c90>,\n",
       "  <matplotlib.patches.Wedge at 0x11fd1e9d0>],\n",
       " [Text(-0.9037660939152232, 0.6270620762645593, 'Bronx'),\n",
       "  Text(-0.8319780034936637, -0.7195919688981371, 'Brooklyn'),\n",
       "  Text(1.086326435919438, 0.17290134361123816, 'Manhattan'),\n",
       "  Text(-0.40373054229104743, 1.023230985272327, 'Queens'),\n",
       "  Text(-0.8187458979751604, 0.734612247753091, 'Staten Island')],\n",
       " [Text(-0.4929633239537581, 0.3420338597806687, '2.91435%'),\n",
       "  Text(-0.4538061837238165, -0.39250471030807477, '39.09189%'),\n",
       "  Text(0.5925416923196933, 0.09430982378794807, '43.23385%'),\n",
       "  Text(-0.2202166594314804, 0.5581259919667237, '13.70448%'),\n",
       "  Text(-0.44658867162281474, 0.4006975896835041, '1.05542%')])"
      ]
     },
     "execution_count": 125,
     "metadata": {},
     "output_type": "execute_result"
    },
    {
     "data": {
      "image/png": "[encoded data removed]",
      "text/plain": [
       "<Figure size 432x288 with 1 Axes>"
      ]
     },
     "metadata": {},
     "output_type": "display_data"
    }
   ],
   "source": [
    "plt.pie(x2_axis, labels=y2_axis, colors=colors,\n",
    "        autopct='%1.5f%%', shadow=True, startangle=140)\n"
   ]
  },
  {
   "cell_type": "code",
   "execution_count": 126,
   "metadata": {},
   "outputs": [],
   "source": [
    "# THE HIGHEST NUMBER OF AVAILABLE ROOMS/ APTS ARE LOCATED IN MANHATTAN, EVEN THOUGH IS THE SMALLEST BOROUGH. NEXT IS BROOKLYN, FOLLOWED BY QUEENS."
   ]
  },
  {
   "cell_type": "code",
   "execution_count": null,
   "metadata": {},
   "outputs": [],
   "source": []
  },
  {
   "cell_type": "markdown",
   "metadata": {},
   "source": [
    "                            SURA"
   ]
  },
  {
   "cell_type": "code",
   "execution_count": 127,
   "metadata": {},
   "outputs": [
    {
     "data": {
      "text/html": [
       "<style  type=\"text/css\" >\n",
       "</style><table id=\"T_f05ff180_08b7_11ea_8723_086d41dd6a90\" ><thead>    <tr>        <th class=\"blank level0\" ></th>        <th class=\"col_heading level0 col0\" >Room Type</th>        <th class=\"col_heading level0 col1\" >Price</th>    </tr></thead><tbody>\n",
       "                <tr>\n",
       "                        <th id=\"T_f05ff180_08b7_11ea_8723_086d41dd6a90level0_row0\" class=\"row_heading level0 row0\" >0</th>\n",
       "                        <td id=\"T_f05ff180_08b7_11ea_8723_086d41dd6a90row0_col0\" class=\"data row0 col0\" >Entire home/apt</td>\n",
       "                        <td id=\"T_f05ff180_08b7_11ea_8723_086d41dd6a90row0_col1\" class=\"data row0 col1\" >$211.79</td>\n",
       "            </tr>\n",
       "            <tr>\n",
       "                        <th id=\"T_f05ff180_08b7_11ea_8723_086d41dd6a90level0_row1\" class=\"row_heading level0 row1\" >1</th>\n",
       "                        <td id=\"T_f05ff180_08b7_11ea_8723_086d41dd6a90row1_col0\" class=\"data row1 col0\" >Private room</td>\n",
       "                        <td id=\"T_f05ff180_08b7_11ea_8723_086d41dd6a90row1_col1\" class=\"data row1 col1\" >$89.78</td>\n",
       "            </tr>\n",
       "            <tr>\n",
       "                        <th id=\"T_f05ff180_08b7_11ea_8723_086d41dd6a90level0_row2\" class=\"row_heading level0 row2\" >2</th>\n",
       "                        <td id=\"T_f05ff180_08b7_11ea_8723_086d41dd6a90row2_col0\" class=\"data row2 col0\" >Shared room</td>\n",
       "                        <td id=\"T_f05ff180_08b7_11ea_8723_086d41dd6a90row2_col1\" class=\"data row2 col1\" >$70.13</td>\n",
       "            </tr>\n",
       "    </tbody></table>"
      ],
      "text/plain": [
       "<pandas.io.formats.style.Styler at 0x120191fd0>"
      ]
     },
     "execution_count": 127,
     "metadata": {},
     "output_type": "execute_result"
    }
   ],
   "source": [
    "# Groupby room type by Price average\n",
    "mean_price_of_rooms = nyc_airbnb.groupby([\"Room Type\"],as_index=False)\n",
    "\n",
    "# Create DataFrame\n",
    "avrg_price = pd.DataFrame(mean_price_of_rooms[\"Price\"].mean())\n",
    "\n",
    "# Formating currency\n",
    "avrg_price[\"Price\"] = avrg_price[\"Price\"].astype(float).map(\"${:,.2f}\".format)\n",
    "#pivot = avrg_price.pivot()\n",
    "\n",
    "avrg_price.style"
   ]
  },
  {
   "cell_type": "code",
   "execution_count": 128,
   "metadata": {},
   "outputs": [
    {
     "data": {
      "text/html": [
       "<style  type=\"text/css\" >\n",
       "</style><table id=\"T_f066b0f6_08b7_11ea_8723_086d41dd6a90\" ><thead>    <tr>        <th class=\"blank level0\" ></th>        <th class=\"col_heading level0 col0\" >Total Rooms</th>        <th class=\"col_heading level0 col1\" >Per of Room Type</th>    </tr>    <tr>        <th class=\"index_name level0\" >Room Type</th>        <th class=\"blank\" ></th>        <th class=\"blank\" ></th>    </tr></thead><tbody>\n",
       "                <tr>\n",
       "                        <th id=\"T_f066b0f6_08b7_11ea_8723_086d41dd6a90level0_row0\" class=\"row_heading level0 row0\" >Entire home/apt</th>\n",
       "                        <td id=\"T_f066b0f6_08b7_11ea_8723_086d41dd6a90row0_col0\" class=\"data row0 col0\" >25409</td>\n",
       "                        <td id=\"T_f066b0f6_08b7_11ea_8723_086d41dd6a90row0_col1\" class=\"data row0 col1\" >51.97%</td>\n",
       "            </tr>\n",
       "            <tr>\n",
       "                        <th id=\"T_f066b0f6_08b7_11ea_8723_086d41dd6a90level0_row1\" class=\"row_heading level0 row1\" >Private room</th>\n",
       "                        <td id=\"T_f066b0f6_08b7_11ea_8723_086d41dd6a90row1_col0\" class=\"data row1 col0\" >22326</td>\n",
       "                        <td id=\"T_f066b0f6_08b7_11ea_8723_086d41dd6a90row1_col1\" class=\"data row1 col1\" >45.66%</td>\n",
       "            </tr>\n",
       "            <tr>\n",
       "                        <th id=\"T_f066b0f6_08b7_11ea_8723_086d41dd6a90level0_row2\" class=\"row_heading level0 row2\" >Shared room</th>\n",
       "                        <td id=\"T_f066b0f6_08b7_11ea_8723_086d41dd6a90row2_col0\" class=\"data row2 col0\" >1160</td>\n",
       "                        <td id=\"T_f066b0f6_08b7_11ea_8723_086d41dd6a90row2_col1\" class=\"data row2 col1\" >2.37%</td>\n",
       "            </tr>\n",
       "    </tbody></table>"
      ],
      "text/plain": [
       "<pandas.io.formats.style.Styler at 0x11fd40810>"
      ]
     },
     "execution_count": 128,
     "metadata": {},
     "output_type": "execute_result"
    }
   ],
   "source": [
    "# Create Data Frame: Total Rooms and Percentage showing which rooms we have more\n",
    "room_categ = pd.DataFrame({\"Total Rooms\" : nyc_airbnb[\"Room Type\"].value_counts(),\n",
    "                           \"Per of Room Type\" : nyc_airbnb[\"Room Type\"].value_counts()/nyc_airbnb[\"Room Type\"].count()/1})\n",
    "\n",
    "\n",
    "# Set Index and Index name\n",
    "index = [\"Entire home/apt\", \"Private room\", \"Shared room\"]\n",
    "room_categ.index.name = \"Room Type\"\n",
    "\n",
    "# Format with percentage and currency style\n",
    "room_categ[\"Per of Room Type\"] = room_categ[\"Per of Room Type\"].astype(float).map(\"{:.2%}\".format)\n",
    "room_categ.style"
   ]
  },
  {
   "cell_type": "code",
   "execution_count": 129,
   "metadata": {},
   "outputs": [
    {
     "data": {
      "text/html": [
       "<style  type=\"text/css\" >\n",
       "</style><table id=\"T_f06d0ae6_08b7_11ea_8723_086d41dd6a90\" ><thead>    <tr>        <th class=\"blank level0\" ></th>        <th class=\"col_heading level0 col0\" >Borough</th>        <th class=\"col_heading level0 col1\" >Price</th>    </tr></thead><tbody>\n",
       "                <tr>\n",
       "                        <th id=\"T_f06d0ae6_08b7_11ea_8723_086d41dd6a90level0_row0\" class=\"row_heading level0 row0\" >0</th>\n",
       "                        <td id=\"T_f06d0ae6_08b7_11ea_8723_086d41dd6a90row0_col0\" class=\"data row0 col0\" >Bronx</td>\n",
       "                        <td id=\"T_f06d0ae6_08b7_11ea_8723_086d41dd6a90row0_col1\" class=\"data row0 col1\" >$87.50</td>\n",
       "            </tr>\n",
       "            <tr>\n",
       "                        <th id=\"T_f06d0ae6_08b7_11ea_8723_086d41dd6a90level0_row1\" class=\"row_heading level0 row1\" >1</th>\n",
       "                        <td id=\"T_f06d0ae6_08b7_11ea_8723_086d41dd6a90row1_col0\" class=\"data row1 col0\" >Brooklyn</td>\n",
       "                        <td id=\"T_f06d0ae6_08b7_11ea_8723_086d41dd6a90row1_col1\" class=\"data row1 col1\" >$124.38</td>\n",
       "            </tr>\n",
       "            <tr>\n",
       "                        <th id=\"T_f06d0ae6_08b7_11ea_8723_086d41dd6a90level0_row2\" class=\"row_heading level0 row2\" >2</th>\n",
       "                        <td id=\"T_f06d0ae6_08b7_11ea_8723_086d41dd6a90row2_col0\" class=\"data row2 col0\" >Manhattan</td>\n",
       "                        <td id=\"T_f06d0ae6_08b7_11ea_8723_086d41dd6a90row2_col1\" class=\"data row2 col1\" >$196.88</td>\n",
       "            </tr>\n",
       "            <tr>\n",
       "                        <th id=\"T_f06d0ae6_08b7_11ea_8723_086d41dd6a90level0_row3\" class=\"row_heading level0 row3\" >3</th>\n",
       "                        <td id=\"T_f06d0ae6_08b7_11ea_8723_086d41dd6a90row3_col0\" class=\"data row3 col0\" >Queens</td>\n",
       "                        <td id=\"T_f06d0ae6_08b7_11ea_8723_086d41dd6a90row3_col1\" class=\"data row3 col1\" >$99.52</td>\n",
       "            </tr>\n",
       "            <tr>\n",
       "                        <th id=\"T_f06d0ae6_08b7_11ea_8723_086d41dd6a90level0_row4\" class=\"row_heading level0 row4\" >4</th>\n",
       "                        <td id=\"T_f06d0ae6_08b7_11ea_8723_086d41dd6a90row4_col0\" class=\"data row4 col0\" >Staten Island</td>\n",
       "                        <td id=\"T_f06d0ae6_08b7_11ea_8723_086d41dd6a90row4_col1\" class=\"data row4 col1\" >$114.81</td>\n",
       "            </tr>\n",
       "    </tbody></table>"
      ],
      "text/plain": [
       "<pandas.io.formats.style.Styler at 0x11c6492d0>"
      ]
     },
     "execution_count": 129,
     "metadata": {},
     "output_type": "execute_result"
    }
   ],
   "source": [
    "# Group by Cities\n",
    "group_city = nyc_airbnb.groupby([\"Borough\"],as_index=False)\n",
    "\n",
    "# Create Data Frame by Price\n",
    "city_avrg_prices = pd.DataFrame(group_city[\"Price\"].mean())\n",
    "\n",
    "# Create formating currency for Price column\n",
    "city_avrg_prices[\"Price\"] = city_avrg_prices[\"Price\"].astype(float).map(\"${:,.2f}\".format)\n",
    "\n",
    "# Show Data Frame by style (bold index)\n",
    "city_avrg_prices.style"
   ]
  },
  {
   "cell_type": "code",
   "execution_count": 130,
   "metadata": {},
   "outputs": [
    {
     "name": "stdout",
     "output_type": "stream",
     "text": [
      "Room Category:\n",
      "-----------------\n"
     ]
    },
    {
     "data": {
      "text/html": [
       "<div>\n",
       "<style scoped>\n",
       "    .dataframe tbody tr th:only-of-type {\n",
       "        vertical-align: middle;\n",
       "    }\n",
       "\n",
       "    .dataframe tbody tr th {\n",
       "        vertical-align: top;\n",
       "    }\n",
       "\n",
       "    .dataframe thead th {\n",
       "        text-align: right;\n",
       "    }\n",
       "</style>\n",
       "<table border=\"1\" class=\"dataframe\">\n",
       "  <thead>\n",
       "    <tr style=\"text-align: right;\">\n",
       "      <th></th>\n",
       "      <th>Total Rooms</th>\n",
       "      <th>Per of Room Type</th>\n",
       "    </tr>\n",
       "    <tr>\n",
       "      <th>Room Type</th>\n",
       "      <th></th>\n",
       "      <th></th>\n",
       "    </tr>\n",
       "  </thead>\n",
       "  <tbody>\n",
       "    <tr>\n",
       "      <td>Entire home/apt</td>\n",
       "      <td>25409</td>\n",
       "      <td>51.97%</td>\n",
       "    </tr>\n",
       "    <tr>\n",
       "      <td>Private room</td>\n",
       "      <td>22326</td>\n",
       "      <td>45.66%</td>\n",
       "    </tr>\n",
       "    <tr>\n",
       "      <td>Shared room</td>\n",
       "      <td>1160</td>\n",
       "      <td>2.37%</td>\n",
       "    </tr>\n",
       "  </tbody>\n",
       "</table>\n",
       "</div>"
      ],
      "text/plain": [
       "                 Total Rooms Per of Room Type\n",
       "Room Type                                    \n",
       "Entire home/apt        25409           51.97%\n",
       "Private room           22326           45.66%\n",
       "Shared room             1160            2.37%"
      ]
     },
     "metadata": {},
     "output_type": "display_data"
    },
    {
     "name": "stdout",
     "output_type": "stream",
     "text": [
      "Avarage Price:\n",
      "-----------------\n"
     ]
    },
    {
     "data": {
      "text/html": [
       "<div>\n",
       "<style scoped>\n",
       "    .dataframe tbody tr th:only-of-type {\n",
       "        vertical-align: middle;\n",
       "    }\n",
       "\n",
       "    .dataframe tbody tr th {\n",
       "        vertical-align: top;\n",
       "    }\n",
       "\n",
       "    .dataframe thead th {\n",
       "        text-align: right;\n",
       "    }\n",
       "</style>\n",
       "<table border=\"1\" class=\"dataframe\">\n",
       "  <thead>\n",
       "    <tr style=\"text-align: right;\">\n",
       "      <th></th>\n",
       "      <th>Room Type</th>\n",
       "      <th>Price</th>\n",
       "    </tr>\n",
       "  </thead>\n",
       "  <tbody>\n",
       "    <tr>\n",
       "      <td>0</td>\n",
       "      <td>Entire home/apt</td>\n",
       "      <td>$211.79</td>\n",
       "    </tr>\n",
       "    <tr>\n",
       "      <td>1</td>\n",
       "      <td>Private room</td>\n",
       "      <td>$89.78</td>\n",
       "    </tr>\n",
       "    <tr>\n",
       "      <td>2</td>\n",
       "      <td>Shared room</td>\n",
       "      <td>$70.13</td>\n",
       "    </tr>\n",
       "  </tbody>\n",
       "</table>\n",
       "</div>"
      ],
      "text/plain": [
       "         Room Type    Price\n",
       "0  Entire home/apt  $211.79\n",
       "1     Private room   $89.78\n",
       "2      Shared room   $70.13"
      ]
     },
     "metadata": {},
     "output_type": "display_data"
    },
    {
     "name": "stdout",
     "output_type": "stream",
     "text": [
      "Borough:\n",
      "-----------------\n"
     ]
    },
    {
     "data": {
      "text/html": [
       "<div>\n",
       "<style scoped>\n",
       "    .dataframe tbody tr th:only-of-type {\n",
       "        vertical-align: middle;\n",
       "    }\n",
       "\n",
       "    .dataframe tbody tr th {\n",
       "        vertical-align: top;\n",
       "    }\n",
       "\n",
       "    .dataframe thead th {\n",
       "        text-align: right;\n",
       "    }\n",
       "</style>\n",
       "<table border=\"1\" class=\"dataframe\">\n",
       "  <thead>\n",
       "    <tr style=\"text-align: right;\">\n",
       "      <th></th>\n",
       "      <th>Borough</th>\n",
       "      <th>Price</th>\n",
       "    </tr>\n",
       "  </thead>\n",
       "  <tbody>\n",
       "    <tr>\n",
       "      <td>0</td>\n",
       "      <td>Bronx</td>\n",
       "      <td>$87.50</td>\n",
       "    </tr>\n",
       "    <tr>\n",
       "      <td>1</td>\n",
       "      <td>Brooklyn</td>\n",
       "      <td>$124.38</td>\n",
       "    </tr>\n",
       "    <tr>\n",
       "      <td>2</td>\n",
       "      <td>Manhattan</td>\n",
       "      <td>$196.88</td>\n",
       "    </tr>\n",
       "    <tr>\n",
       "      <td>3</td>\n",
       "      <td>Queens</td>\n",
       "      <td>$99.52</td>\n",
       "    </tr>\n",
       "    <tr>\n",
       "      <td>4</td>\n",
       "      <td>Staten Island</td>\n",
       "      <td>$114.81</td>\n",
       "    </tr>\n",
       "  </tbody>\n",
       "</table>\n",
       "</div>"
      ],
      "text/plain": [
       "         Borough    Price\n",
       "0          Bronx   $87.50\n",
       "1       Brooklyn  $124.38\n",
       "2      Manhattan  $196.88\n",
       "3         Queens   $99.52\n",
       "4  Staten Island  $114.81"
      ]
     },
     "metadata": {},
     "output_type": "display_data"
    }
   ],
   "source": [
    "# Print both datas inside the window for preview\n",
    "pd.set_option(\"display.max_rows\", None)\n",
    "print (\"Room Category:\")\n",
    "print (\"-----------------\")\n",
    "display(room_categ)\n",
    "print (\"Avarage Price:\")\n",
    "print (\"-----------------\")\n",
    "display(avrg_price)\n",
    "print (\"Borough:\")\n",
    "print (\"-----------------\")\n",
    "display(city_avrg_prices)"
   ]
  },
  {
   "cell_type": "code",
   "execution_count": 131,
   "metadata": {},
   "outputs": [
    {
     "data": {
      "text/html": [
       "<style  type=\"text/css\" >\n",
       "</style><table id=\"T_f07d5536_08b7_11ea_8723_086d41dd6a90\" ><thead>    <tr>        <th class=\"blank level0\" ></th>        <th class=\"col_heading level0 col0\" >Room Type</th>        <th class=\"col_heading level0 col1\" >Price</th>        <th class=\"col_heading level0 col2\" >Total Rooms</th>        <th class=\"col_heading level0 col3\" >Per of Room Type</th>    </tr></thead><tbody>\n",
       "                <tr>\n",
       "                        <th id=\"T_f07d5536_08b7_11ea_8723_086d41dd6a90level0_row0\" class=\"row_heading level0 row0\" >0</th>\n",
       "                        <td id=\"T_f07d5536_08b7_11ea_8723_086d41dd6a90row0_col0\" class=\"data row0 col0\" >Entire home/apt</td>\n",
       "                        <td id=\"T_f07d5536_08b7_11ea_8723_086d41dd6a90row0_col1\" class=\"data row0 col1\" >$211.79</td>\n",
       "                        <td id=\"T_f07d5536_08b7_11ea_8723_086d41dd6a90row0_col2\" class=\"data row0 col2\" >25409</td>\n",
       "                        <td id=\"T_f07d5536_08b7_11ea_8723_086d41dd6a90row0_col3\" class=\"data row0 col3\" >51.97%</td>\n",
       "            </tr>\n",
       "            <tr>\n",
       "                        <th id=\"T_f07d5536_08b7_11ea_8723_086d41dd6a90level0_row1\" class=\"row_heading level0 row1\" >1</th>\n",
       "                        <td id=\"T_f07d5536_08b7_11ea_8723_086d41dd6a90row1_col0\" class=\"data row1 col0\" >Private room</td>\n",
       "                        <td id=\"T_f07d5536_08b7_11ea_8723_086d41dd6a90row1_col1\" class=\"data row1 col1\" >$89.78</td>\n",
       "                        <td id=\"T_f07d5536_08b7_11ea_8723_086d41dd6a90row1_col2\" class=\"data row1 col2\" >22326</td>\n",
       "                        <td id=\"T_f07d5536_08b7_11ea_8723_086d41dd6a90row1_col3\" class=\"data row1 col3\" >45.66%</td>\n",
       "            </tr>\n",
       "            <tr>\n",
       "                        <th id=\"T_f07d5536_08b7_11ea_8723_086d41dd6a90level0_row2\" class=\"row_heading level0 row2\" >2</th>\n",
       "                        <td id=\"T_f07d5536_08b7_11ea_8723_086d41dd6a90row2_col0\" class=\"data row2 col0\" >Shared room</td>\n",
       "                        <td id=\"T_f07d5536_08b7_11ea_8723_086d41dd6a90row2_col1\" class=\"data row2 col1\" >$70.13</td>\n",
       "                        <td id=\"T_f07d5536_08b7_11ea_8723_086d41dd6a90row2_col2\" class=\"data row2 col2\" >1160</td>\n",
       "                        <td id=\"T_f07d5536_08b7_11ea_8723_086d41dd6a90row2_col3\" class=\"data row2 col3\" >2.37%</td>\n",
       "            </tr>\n",
       "    </tbody></table>"
      ],
      "text/plain": [
       "<pandas.io.formats.style.Styler at 0x120186710>"
      ]
     },
     "execution_count": 131,
     "metadata": {},
     "output_type": "execute_result"
    }
   ],
   "source": [
    "# Merge both DataFrames\n",
    "merge_room_type = pd.merge(avrg_price, room_categ, on=\"Room Type\")\n",
    "pd.DataFrame(merge_room_type)\n",
    "merge_room_type.style"
   ]
  },
  {
   "cell_type": "code",
   "execution_count": 132,
   "metadata": {},
   "outputs": [
    {
     "data": {
      "text/html": [
       "<div>\n",
       "<style scoped>\n",
       "    .dataframe tbody tr th:only-of-type {\n",
       "        vertical-align: middle;\n",
       "    }\n",
       "\n",
       "    .dataframe tbody tr th {\n",
       "        vertical-align: top;\n",
       "    }\n",
       "\n",
       "    .dataframe thead th {\n",
       "        text-align: right;\n",
       "    }\n",
       "</style>\n",
       "<table border=\"1\" class=\"dataframe\">\n",
       "  <thead>\n",
       "    <tr style=\"text-align: right;\">\n",
       "      <th></th>\n",
       "      <th>Room Type</th>\n",
       "      <th>Price</th>\n",
       "      <th>Total Rooms</th>\n",
       "      <th>Per of Room Type</th>\n",
       "      <th>Borough</th>\n",
       "    </tr>\n",
       "  </thead>\n",
       "  <tbody>\n",
       "    <tr>\n",
       "      <td>0</td>\n",
       "      <td>Entire home/apt</td>\n",
       "      <td>$211.79</td>\n",
       "      <td>25409</td>\n",
       "      <td>51.97%</td>\n",
       "      <td>Brooklyn</td>\n",
       "    </tr>\n",
       "    <tr>\n",
       "      <td>1</td>\n",
       "      <td>Private room</td>\n",
       "      <td>$89.78</td>\n",
       "      <td>22326</td>\n",
       "      <td>45.66%</td>\n",
       "      <td>Manhattan</td>\n",
       "    </tr>\n",
       "    <tr>\n",
       "      <td>2</td>\n",
       "      <td>Shared room</td>\n",
       "      <td>$70.13</td>\n",
       "      <td>1160</td>\n",
       "      <td>2.37%</td>\n",
       "      <td>Manhattan</td>\n",
       "    </tr>\n",
       "  </tbody>\n",
       "</table>\n",
       "</div>"
      ],
      "text/plain": [
       "         Room Type    Price  Total Rooms Per of Room Type    Borough\n",
       "0  Entire home/apt  $211.79        25409           51.97%   Brooklyn\n",
       "1     Private room   $89.78        22326           45.66%  Manhattan\n",
       "2      Shared room   $70.13         1160            2.37%  Manhattan"
      ]
     },
     "execution_count": 132,
     "metadata": {},
     "output_type": "execute_result"
    }
   ],
   "source": [
    "# Adding Cities column to Data Frame\n",
    "city_list = nyc_airbnb[\"Borough\"]\n",
    "merge_room_type[\"Borough\"] = city_list\n",
    "  \n",
    "# Lock table\n",
    "locked_table = merge_room_type.loc[:, [\"Room Type\", \"Price\", \"Total Rooms\", \"Per of Room Type\", \"Borough\"]]\n",
    "locked_table"
   ]
  },
  {
   "cell_type": "code",
   "execution_count": 133,
   "metadata": {},
   "outputs": [],
   "source": [
    "# Remove $ from Price column - for be able to create the error bar\n",
    "locked_table[\"Price\"] = locked_table[\"Price\"].apply(lambda x:float(x.strip('$')))"
   ]
  },
  {
   "cell_type": "code",
   "execution_count": 134,
   "metadata": {},
   "outputs": [
    {
     "data": {
      "text/plain": [
       "<matplotlib.axes._subplots.AxesSubplot at 0x11fd51fd0>"
      ]
     },
     "execution_count": 134,
     "metadata": {},
     "output_type": "execute_result"
    },
    {
     "data": {
      "image/png": "[encoded data removed]",
      "text/plain": [
       "<Figure size 432x288 with 1 Axes>"
      ]
     },
     "metadata": {
      "needs_background": "light"
     },
     "output_type": "display_data"
    }
   ],
   "source": [
    "# Grouping by Cities and Room Type\n",
    "# Setting index by false to see nice Data Frame\n",
    "airbnb_new = locked_table.groupby([\"Borough\", \"Room Type\"],as_index=False)[\"Price\"].mean()\n",
    "\n",
    "# Show Data Frame by index style\n",
    "airbnb_new.style\n",
    "\n",
    "# Show Bar by seaborn (it's will shows you matplotlib errors bar by different color)\n",
    "sns.barplot(airbnb_new[\"Room Type\"], airbnb_new[\"Price\"])"
   ]
  },
  {
   "cell_type": "code",
   "execution_count": 135,
   "metadata": {},
   "outputs": [
    {
     "data": {
      "image/png": "[encoded data removed]",
      "text/plain": [
       "<Figure size 432x288 with 1 Axes>"
      ]
     },
     "metadata": {
      "needs_background": "light"
     },
     "output_type": "display_data"
    }
   ],
   "source": [
    "# Defind y values by price\n",
    "y = airbnb_new[\"Price\"].values\n",
    "\n",
    "# Create plt bar\n",
    "airbnb_bar = plt.bar(airbnb_new[\"Room Type\"],airbnb_new[\"Price\"], color = \"r\")\n",
    "\n",
    "#Creating title \n",
    "plt.title(\"Room Type -vs- Price\")\n",
    "\n",
    "# Set up price by Roofor each bar\n",
    "def autolabel(rects):\n",
    "    for i,rect in enumerate(rects):\n",
    "        plt.text(rect.get_x() + rect.get_width()/2., 2, '$%s'% (y[i]), ha=\"center\", va=\"bottom\", \n",
    "                 color=\"white\", weight=\"bold\")\n",
    "                  \n",
    "\n",
    "autolabel(airbnb_bar)"
   ]
  },
  {
   "cell_type": "code",
   "execution_count": 136,
   "metadata": {},
   "outputs": [
    {
     "data": {
      "image/png": "[encoded data removed]",
      "text/plain": [
       "<Figure size 432x288 with 1 Axes>"
      ]
     },
     "metadata": {
      "needs_background": "light"
     },
     "output_type": "display_data"
    }
   ],
   "source": [
    "# Set price and room type for new DataFrame\n",
    "prices = airbnb_new[\"Price\"].values\n",
    "type_of_r = airbnb_new[\"Room Type\"]\n",
    "\n",
    "# Create new Data Frame\n",
    "data = pd.DataFrame({\"in\": [1,2,3], \"r\": type_of_r, \"p\": prices})\n",
    "\n",
    "# Set 3D projection \n",
    "fig = plt.figure()\n",
    "ax = fig.add_subplot(111, projection='3d')\n",
    "\n",
    "# Show projection\n",
    "ax\n",
    "\n",
    "# Create pivot table\n",
    "piv_tbl = pd.pivot_table(data, values=\"p\", index=\"in\", columns=\"r\")\n",
    "\n",
    "# Set all x, y  for 3D graph\n",
    "xpos = np.arange(piv_tbl.shape[0])\n",
    "ypos = np.arange(piv_tbl.shape[1])\n",
    "xpos, ypos = np.meshgrid(xpos+0.25, ypos+0.25)\n",
    "\n",
    "xpos = xpos.flatten()\n",
    "ypos = ypos.flatten()\n",
    "zpos = np.zeros(piv_tbl.shape).flatten()\n",
    "\n",
    "# Set delta x, y, z\n",
    "dx = 0.5 * np.ones_like(zpos)\n",
    "dy = 0.5 * np.ones_like(zpos)\n",
    "dz = piv_tbl.values.ravel()\n",
    "# Setting \n",
    "dz[np.isnan(dz)] = 0.\n",
    "\n",
    "# Set 3D graph - adding color and shape \n",
    "    # with alpha showing dept(thickness)\n",
    "ax.bar3d(xpos, ypos, zpos, dx, dy, dz, color=\"c\", alpha=0.9)\n",
    "\n",
    "\n",
    "ax.set_xticks([.5, 1.5, 2.5])\n",
    "ax.set_yticks([1.5, 2.5, 3.5])\n",
    "\n",
    "# Set index and columns of graph\n",
    "ax.w_xaxis.set_ticklabels(piv_tbl.index)\n",
    "ax.w_yaxis.set_ticklabels(piv_tbl.columns, rotation=6)\n",
    "\n",
    "# Set grid colors and linestyle\n",
    "    #ax.zaxis._axinfo[\"grid\"]['color'] = \"c\"\n",
    "    #ax.zaxis._axinfo[\"grid\"]['linestyle'] = \"-\"\n",
    "\n",
    "# Formating for label and tight\n",
    "fig.tight_layout()\n",
    "ax.set_zlabel(\"Price\")\n",
    "\n",
    "# Show 3D histogram\n",
    "plt.show()"
   ]
  },
  {
   "cell_type": "code",
   "execution_count": null,
   "metadata": {},
   "outputs": [],
   "source": []
  },
  {
   "cell_type": "markdown",
   "metadata": {},
   "source": [
    "                Gilbert\n",
    "\n",
    "        Yearly Availability By Borough"
   ]
  },
  {
   "cell_type": "code",
   "execution_count": 193,
   "metadata": {},
   "outputs": [
    {
     "data": {
      "text/html": [
       "<div>\n",
       "<style scoped>\n",
       "    .dataframe tbody tr th:only-of-type {\n",
       "        vertical-align: middle;\n",
       "    }\n",
       "\n",
       "    .dataframe tbody tr th {\n",
       "        vertical-align: top;\n",
       "    }\n",
       "\n",
       "    .dataframe thead th {\n",
       "        text-align: right;\n",
       "    }\n",
       "</style>\n",
       "<table border=\"1\" class=\"dataframe\">\n",
       "  <thead>\n",
       "    <tr style=\"text-align: right;\">\n",
       "      <th></th>\n",
       "      <th>Neighborhood</th>\n",
       "      <th>Borough</th>\n",
       "      <th>Yearly Availability</th>\n",
       "    </tr>\n",
       "  </thead>\n",
       "  <tbody>\n",
       "    <tr>\n",
       "      <td>0</td>\n",
       "      <td>Allerton</td>\n",
       "      <td>Bronx</td>\n",
       "      <td>185.783784</td>\n",
       "    </tr>\n",
       "    <tr>\n",
       "      <td>1</td>\n",
       "      <td>Arden Heights</td>\n",
       "      <td>Staten Island</td>\n",
       "      <td>125.666667</td>\n",
       "    </tr>\n",
       "    <tr>\n",
       "      <td>2</td>\n",
       "      <td>Arrochar</td>\n",
       "      <td>Staten Island</td>\n",
       "      <td>255.809524</td>\n",
       "    </tr>\n",
       "    <tr>\n",
       "      <td>3</td>\n",
       "      <td>Arverne</td>\n",
       "      <td>Queens</td>\n",
       "      <td>198.753425</td>\n",
       "    </tr>\n",
       "    <tr>\n",
       "      <td>4</td>\n",
       "      <td>Astoria</td>\n",
       "      <td>Queens</td>\n",
       "      <td>179.328467</td>\n",
       "    </tr>\n",
       "    <tr>\n",
       "      <td>5</td>\n",
       "      <td>Bath Beach</td>\n",
       "      <td>Brooklyn</td>\n",
       "      <td>222.266667</td>\n",
       "    </tr>\n",
       "    <tr>\n",
       "      <td>6</td>\n",
       "      <td>Battery Park City</td>\n",
       "      <td>Manhattan</td>\n",
       "      <td>206.558824</td>\n",
       "    </tr>\n",
       "    <tr>\n",
       "      <td>7</td>\n",
       "      <td>Bay Ridge</td>\n",
       "      <td>Brooklyn</td>\n",
       "      <td>190.122642</td>\n",
       "    </tr>\n",
       "    <tr>\n",
       "      <td>8</td>\n",
       "      <td>Bay Terrace</td>\n",
       "      <td>Queens</td>\n",
       "      <td>222.500000</td>\n",
       "    </tr>\n",
       "    <tr>\n",
       "      <td>9</td>\n",
       "      <td>Baychester</td>\n",
       "      <td>Bronx</td>\n",
       "      <td>184.166667</td>\n",
       "    </tr>\n",
       "  </tbody>\n",
       "</table>\n",
       "</div>"
      ],
      "text/plain": [
       "        Neighborhood        Borough  Yearly Availability\n",
       "0           Allerton          Bronx           185.783784\n",
       "1      Arden Heights  Staten Island           125.666667\n",
       "2           Arrochar  Staten Island           255.809524\n",
       "3            Arverne         Queens           198.753425\n",
       "4            Astoria         Queens           179.328467\n",
       "5         Bath Beach       Brooklyn           222.266667\n",
       "6  Battery Park City      Manhattan           206.558824\n",
       "7          Bay Ridge       Brooklyn           190.122642\n",
       "8        Bay Terrace         Queens           222.500000\n",
       "9         Baychester          Bronx           184.166667"
      ]
     },
     "execution_count": 193,
     "metadata": {},
     "output_type": "execute_result"
    }
   ],
   "source": [
    "newdf = airbnb_df.groupby(['Neighborhood','Borough'],as_index=False)['Yearly Availability'].mean()\n",
    "newdf.head(10)"
   ]
  },
  {
   "cell_type": "code",
   "execution_count": 204,
   "metadata": {},
   "outputs": [
    {
     "data": {
      "text/html": [
       "<div>\n",
       "<style scoped>\n",
       "    .dataframe tbody tr th:only-of-type {\n",
       "        vertical-align: middle;\n",
       "    }\n",
       "\n",
       "    .dataframe tbody tr th {\n",
       "        vertical-align: top;\n",
       "    }\n",
       "\n",
       "    .dataframe thead th {\n",
       "        text-align: right;\n",
       "    }\n",
       "</style>\n",
       "<table border=\"1\" class=\"dataframe\">\n",
       "  <thead>\n",
       "    <tr style=\"text-align: right;\">\n",
       "      <th></th>\n",
       "      <th>Neighborhood</th>\n",
       "      <th>Borough</th>\n",
       "      <th>Yearly Availability</th>\n",
       "    </tr>\n",
       "  </thead>\n",
       "  <tbody>\n",
       "    <tr>\n",
       "      <td>0</td>\n",
       "      <td>Bay Terrace</td>\n",
       "      <td>Queens</td>\n",
       "      <td>222.500000</td>\n",
       "    </tr>\n",
       "    <tr>\n",
       "      <td>1</td>\n",
       "      <td>Baychester</td>\n",
       "      <td>Bronx</td>\n",
       "      <td>184.166667</td>\n",
       "    </tr>\n",
       "    <tr>\n",
       "      <td>2</td>\n",
       "      <td>Belmont</td>\n",
       "      <td>Bronx</td>\n",
       "      <td>264.941176</td>\n",
       "    </tr>\n",
       "    <tr>\n",
       "      <td>3</td>\n",
       "      <td>Bushwick</td>\n",
       "      <td>Brooklyn</td>\n",
       "      <td>162.548654</td>\n",
       "    </tr>\n",
       "    <tr>\n",
       "      <td>4</td>\n",
       "      <td>Carroll Gardens</td>\n",
       "      <td>Brooklyn</td>\n",
       "      <td>136.877049</td>\n",
       "    </tr>\n",
       "  </tbody>\n",
       "</table>\n",
       "</div>"
      ],
      "text/plain": [
       "      Neighborhood   Borough  Yearly Availability\n",
       "0      Bay Terrace    Queens           222.500000\n",
       "1       Baychester     Bronx           184.166667\n",
       "2          Belmont     Bronx           264.941176\n",
       "3         Bushwick  Brooklyn           162.548654\n",
       "4  Carroll Gardens  Brooklyn           136.877049"
      ]
     },
     "execution_count": 204,
     "metadata": {},
     "output_type": "execute_result"
    }
   ],
   "source": [
    "newnew = newdf.drop([0, 1, 2, 3,4,5,6,11,12,13,16,17,18,20,23,24,25,26, \n",
    "                     34,32,33,36,37,38,39,43,44,42,45,46,48,56,57,58,59,\n",
    "                     53,52, 188,21,31,41,51,61,65,67,66,68,69,70,71,72,73,\n",
    "                     74,75,76,77, 196,78,79,89,88,87,86,85,84,81,92,93,94,95,\n",
    "                     96,97,98,101,100,111,123,124,112,114,143,154,165,129,130,\n",
    "                     140,150,160,161,171,14,22,162,165,167,166,186,176,156,\n",
    "                     189,200,212,213,214,215,216,203,204,205,206,207,209,191,\n",
    "                     192,193,194,195,197,156,157,158,159,10,19,28,29,7,50,55,\n",
    "                     60,62,82,90,99,64,102,103,107,113,115,141,142,144,135,\n",
    "                     155,164,168,170,172,177,185,187,190,183,202,47,49,54,80,\n",
    "                     109, 104,105,106,107,119,120,121,122,151,152,153,161,199,\n",
    "                     145,146,147,148,174,175,176,169,181,198,91,117,110,83,35])\n",
    "\n",
    "newnew = newnew.reset_index(drop=True)\n",
    "newnew.head()"
   ]
  },
  {
   "cell_type": "code",
   "execution_count": 233,
   "metadata": {},
   "outputs": [
    {
     "data": {
      "image/png": "[encoded data removed]",
      "text/plain": [
       "<Figure size 792x504 with 1 Axes>"
      ]
     },
     "metadata": {
      "needs_background": "light"
     },
     "output_type": "display_data"
    }
   ],
   "source": [
    "# Set x axis and tick locations\n",
    "x_axis = np.arange(len(newnew))\n",
    "tick_locations = [value+0.8 for value in x_axis]\n",
    "y = newnew[\"Yearly Availability\"]\n",
    "\n",
    "# Create a list indicating where to write x labels and set figure size to adjust for space\n",
    "plt.figure(figsize=(11,7))\n",
    "plt.bar(x_axis, y, color='b', alpha=0.7, align=\"center\")\n",
    "plt.xticks(newnew.index, newnew[\"Borough\"], rotation=\"vertical\")\n",
    "plt.tight_layout()\n",
    "plt.show()"
   ]
  },
  {
   "cell_type": "code",
   "execution_count": 237,
   "metadata": {},
   "outputs": [
    {
     "data": {
      "image/png": "[encoded data removed]",
      "text/plain": [
       "<Figure size 792x504 with 1 Axes>"
      ]
     },
     "metadata": {
      "needs_background": "light"
     },
     "output_type": "display_data"
    }
   ],
   "source": [
    "plt.figure(figsize=(11,7))\n",
    "plt.bar(x_axis, y, color='g', alpha=0.5, align=\"center\")\n",
    "plt.xticks(newnew.index, newnew[\"Neighborhood\"], rotation=\"vertical\")\n",
    "plt.show()"
   ]
  },
  {
   "cell_type": "code",
   "execution_count": null,
   "metadata": {},
   "outputs": [],
   "source": []
  }
 ],
 "metadata": {
  "celltoolbar": "Raw Cell Format",
  "kernelspec": {
   "display_name": "Python 3",
   "language": "python",
   "name": "python3"
  },
  "language_info": {
   "codemirror_mode": {
    "name": "ipython",
    "version": 3
   },
   "file_extension": ".py",
   "mimetype": "text/x-python",
   "name": "python",
   "nbconvert_exporter": "python",
   "pygments_lexer": "ipython3",
   "version": "3.7.4"
  }
 },
 "nbformat": 4,
 "nbformat_minor": 2
}
